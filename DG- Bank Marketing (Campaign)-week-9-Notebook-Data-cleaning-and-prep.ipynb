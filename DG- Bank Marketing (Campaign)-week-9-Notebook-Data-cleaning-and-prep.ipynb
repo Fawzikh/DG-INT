{
 "cells": [
  {
   "cell_type": "code",
   "execution_count": 1,
   "metadata": {},
   "outputs": [],
   "source": [
    "import pandas as pd\n",
    "import numpy as np\n",
    "import matplotlib.pyplot as plt\n",
    "import seaborn as sns\n",
    "sns.set()"
   ]
  },
  {
   "cell_type": "markdown",
   "metadata": {},
   "source": [
    "# Overview: In this Notebook we will clean and examining some techniques to transform and preprocess our datasets.\n",
    "## moreover, I will create two Preprocessed dataframes, one for each type of model. "
   ]
  },
  {
   "cell_type": "code",
   "execution_count": 3,
   "metadata": {},
   "outputs": [
    {
     "data": {
      "text/html": [
       "<div>\n",
       "<style scoped>\n",
       "    .dataframe tbody tr th:only-of-type {\n",
       "        vertical-align: middle;\n",
       "    }\n",
       "\n",
       "    .dataframe tbody tr th {\n",
       "        vertical-align: top;\n",
       "    }\n",
       "\n",
       "    .dataframe thead th {\n",
       "        text-align: right;\n",
       "    }\n",
       "</style>\n",
       "<table border=\"1\" class=\"dataframe\">\n",
       "  <thead>\n",
       "    <tr style=\"text-align: right;\">\n",
       "      <th></th>\n",
       "      <th>age</th>\n",
       "      <th>job</th>\n",
       "      <th>marital</th>\n",
       "      <th>education</th>\n",
       "      <th>default</th>\n",
       "      <th>balance</th>\n",
       "      <th>housing</th>\n",
       "      <th>loan</th>\n",
       "      <th>contact</th>\n",
       "      <th>day</th>\n",
       "      <th>month</th>\n",
       "      <th>duration</th>\n",
       "      <th>campaign</th>\n",
       "      <th>pdays</th>\n",
       "      <th>previous</th>\n",
       "      <th>poutcome</th>\n",
       "      <th>y</th>\n",
       "    </tr>\n",
       "  </thead>\n",
       "  <tbody>\n",
       "    <tr>\n",
       "      <th>0</th>\n",
       "      <td>58</td>\n",
       "      <td>management</td>\n",
       "      <td>married</td>\n",
       "      <td>tertiary</td>\n",
       "      <td>no</td>\n",
       "      <td>2143</td>\n",
       "      <td>yes</td>\n",
       "      <td>no</td>\n",
       "      <td>unknown</td>\n",
       "      <td>5</td>\n",
       "      <td>may</td>\n",
       "      <td>261</td>\n",
       "      <td>1</td>\n",
       "      <td>-1</td>\n",
       "      <td>0</td>\n",
       "      <td>unknown</td>\n",
       "      <td>no</td>\n",
       "    </tr>\n",
       "    <tr>\n",
       "      <th>1</th>\n",
       "      <td>44</td>\n",
       "      <td>technician</td>\n",
       "      <td>single</td>\n",
       "      <td>secondary</td>\n",
       "      <td>no</td>\n",
       "      <td>29</td>\n",
       "      <td>yes</td>\n",
       "      <td>no</td>\n",
       "      <td>unknown</td>\n",
       "      <td>5</td>\n",
       "      <td>may</td>\n",
       "      <td>151</td>\n",
       "      <td>1</td>\n",
       "      <td>-1</td>\n",
       "      <td>0</td>\n",
       "      <td>unknown</td>\n",
       "      <td>no</td>\n",
       "    </tr>\n",
       "    <tr>\n",
       "      <th>2</th>\n",
       "      <td>33</td>\n",
       "      <td>entrepreneur</td>\n",
       "      <td>married</td>\n",
       "      <td>secondary</td>\n",
       "      <td>no</td>\n",
       "      <td>2</td>\n",
       "      <td>yes</td>\n",
       "      <td>yes</td>\n",
       "      <td>unknown</td>\n",
       "      <td>5</td>\n",
       "      <td>may</td>\n",
       "      <td>76</td>\n",
       "      <td>1</td>\n",
       "      <td>-1</td>\n",
       "      <td>0</td>\n",
       "      <td>unknown</td>\n",
       "      <td>no</td>\n",
       "    </tr>\n",
       "    <tr>\n",
       "      <th>3</th>\n",
       "      <td>47</td>\n",
       "      <td>blue-collar</td>\n",
       "      <td>married</td>\n",
       "      <td>unknown</td>\n",
       "      <td>no</td>\n",
       "      <td>1506</td>\n",
       "      <td>yes</td>\n",
       "      <td>no</td>\n",
       "      <td>unknown</td>\n",
       "      <td>5</td>\n",
       "      <td>may</td>\n",
       "      <td>92</td>\n",
       "      <td>1</td>\n",
       "      <td>-1</td>\n",
       "      <td>0</td>\n",
       "      <td>unknown</td>\n",
       "      <td>no</td>\n",
       "    </tr>\n",
       "    <tr>\n",
       "      <th>4</th>\n",
       "      <td>33</td>\n",
       "      <td>unknown</td>\n",
       "      <td>single</td>\n",
       "      <td>unknown</td>\n",
       "      <td>no</td>\n",
       "      <td>1</td>\n",
       "      <td>no</td>\n",
       "      <td>no</td>\n",
       "      <td>unknown</td>\n",
       "      <td>5</td>\n",
       "      <td>may</td>\n",
       "      <td>198</td>\n",
       "      <td>1</td>\n",
       "      <td>-1</td>\n",
       "      <td>0</td>\n",
       "      <td>unknown</td>\n",
       "      <td>no</td>\n",
       "    </tr>\n",
       "  </tbody>\n",
       "</table>\n",
       "</div>"
      ],
      "text/plain": [
       "   age           job  marital  education default  balance housing loan  \\\n",
       "0   58    management  married   tertiary      no     2143     yes   no   \n",
       "1   44    technician   single  secondary      no       29     yes   no   \n",
       "2   33  entrepreneur  married  secondary      no        2     yes  yes   \n",
       "3   47   blue-collar  married    unknown      no     1506     yes   no   \n",
       "4   33       unknown   single    unknown      no        1      no   no   \n",
       "\n",
       "   contact  day month  duration  campaign  pdays  previous poutcome   y  \n",
       "0  unknown    5   may       261         1     -1         0  unknown  no  \n",
       "1  unknown    5   may       151         1     -1         0  unknown  no  \n",
       "2  unknown    5   may        76         1     -1         0  unknown  no  \n",
       "3  unknown    5   may        92         1     -1         0  unknown  no  \n",
       "4  unknown    5   may       198         1     -1         0  unknown  no  "
      ]
     },
     "execution_count": 3,
     "metadata": {},
     "output_type": "execute_result"
    }
   ],
   "source": [
    "data= pd.read_csv(\"C:/Users/Fawzi/Desktop/bank/bank-full.csv\", delimiter=\";\")\n",
    "data.head()"
   ]
  },
  {
   "cell_type": "markdown",
   "metadata": {},
   "source": [
    "### Dropping rows where duration is null"
   ]
  },
  {
   "cell_type": "code",
   "execution_count": 5,
   "metadata": {},
   "outputs": [
    {
     "data": {
      "text/plain": [
       "False    45208\n",
       "True         3\n",
       "Name: duration, dtype: int64"
      ]
     },
     "execution_count": 5,
     "metadata": {},
     "output_type": "execute_result"
    }
   ],
   "source": [
    "(data['duration']==0).value_counts()"
   ]
  },
  {
   "cell_type": "code",
   "execution_count": 6,
   "metadata": {},
   "outputs": [],
   "source": [
    "data=data[data['duration']>0]"
   ]
  },
  {
   "cell_type": "code",
   "execution_count": 7,
   "metadata": {},
   "outputs": [
    {
     "data": {
      "text/plain": [
       "False    45208\n",
       "Name: duration, dtype: int64"
      ]
     },
     "execution_count": 7,
     "metadata": {},
     "output_type": "execute_result"
    }
   ],
   "source": [
    "(data['duration']==0).value_counts()"
   ]
  },
  {
   "cell_type": "code",
   "execution_count": 8,
   "metadata": {},
   "outputs": [
    {
     "data": {
      "text/plain": [
       "True     36951\n",
       "False     8257\n",
       "Name: pdays, dtype: int64"
      ]
     },
     "execution_count": 8,
     "metadata": {},
     "output_type": "execute_result"
    }
   ],
   "source": [
    "(data['pdays']==-1).value_counts()\n",
    "# we have 36954 customers have been contacted for the first time"
   ]
  },
  {
   "cell_type": "code",
   "execution_count": 9,
   "metadata": {},
   "outputs": [],
   "source": [
    "data = data.replace('unknown', np.nan)"
   ]
  },
  {
   "cell_type": "code",
   "execution_count": 10,
   "metadata": {},
   "outputs": [
    {
     "data": {
      "text/plain": [
       "age              0\n",
       "job            288\n",
       "marital          0\n",
       "education     1857\n",
       "default          0\n",
       "balance          0\n",
       "housing          0\n",
       "loan             0\n",
       "contact      13019\n",
       "day              0\n",
       "month            0\n",
       "duration         0\n",
       "campaign         0\n",
       "pdays            0\n",
       "previous         0\n",
       "poutcome     36956\n",
       "y                0\n",
       "dtype: int64"
      ]
     },
     "execution_count": 10,
     "metadata": {},
     "output_type": "execute_result"
    }
   ],
   "source": [
    "data.isnull().sum()"
   ]
  },
  {
   "cell_type": "code",
   "execution_count": 11,
   "metadata": {},
   "outputs": [
    {
     "data": {
      "text/plain": [
       "array([nan, 'failure', 'other', 'success'], dtype=object)"
      ]
     },
     "execution_count": 11,
     "metadata": {},
     "output_type": "execute_result"
    }
   ],
   "source": [
    "data['poutcome'].unique()"
   ]
  },
  {
   "cell_type": "code",
   "execution_count": 12,
   "metadata": {},
   "outputs": [],
   "source": [
    "data_cl=data.dropna(axis=0)"
   ]
  },
  {
   "cell_type": "code",
   "execution_count": 13,
   "metadata": {
    "scrolled": true
   },
   "outputs": [
    {
     "name": "stdout",
     "output_type": "stream",
     "text": [
      "<class 'pandas.core.frame.DataFrame'>\n",
      "Int64Index: 7842 entries, 24060 to 45210\n",
      "Data columns (total 17 columns):\n",
      " #   Column     Non-Null Count  Dtype \n",
      "---  ------     --------------  ----- \n",
      " 0   age        7842 non-null   int64 \n",
      " 1   job        7842 non-null   object\n",
      " 2   marital    7842 non-null   object\n",
      " 3   education  7842 non-null   object\n",
      " 4   default    7842 non-null   object\n",
      " 5   balance    7842 non-null   int64 \n",
      " 6   housing    7842 non-null   object\n",
      " 7   loan       7842 non-null   object\n",
      " 8   contact    7842 non-null   object\n",
      " 9   day        7842 non-null   int64 \n",
      " 10  month      7842 non-null   object\n",
      " 11  duration   7842 non-null   int64 \n",
      " 12  campaign   7842 non-null   int64 \n",
      " 13  pdays      7842 non-null   int64 \n",
      " 14  previous   7842 non-null   int64 \n",
      " 15  poutcome   7842 non-null   object\n",
      " 16  y          7842 non-null   object\n",
      "dtypes: int64(7), object(10)\n",
      "memory usage: 1.1+ MB\n"
     ]
    }
   ],
   "source": [
    "data_cl.info()"
   ]
  },
  {
   "cell_type": "code",
   "execution_count": 14,
   "metadata": {},
   "outputs": [
    {
     "name": "stdout",
     "output_type": "stream",
     "text": [
      "0.12481299422953622\n"
     ]
    },
    {
     "data": {
      "text/plain": [
       "0.6468506723283793"
      ]
     },
     "execution_count": 14,
     "metadata": {},
     "output_type": "execute_result"
    }
   ],
   "source": [
    "print(584/(584+4095))\n",
    "914/(914+499)"
   ]
  },
  {
   "cell_type": "markdown",
   "metadata": {},
   "source": [
    "#### we left of by 7840 observations from 45210 "
   ]
  },
  {
   "cell_type": "markdown",
   "metadata": {},
   "source": [
    "## Dropping the \"poutcome\" and then drop the missing values"
   ]
  },
  {
   "cell_type": "code",
   "execution_count": 15,
   "metadata": {},
   "outputs": [
    {
     "name": "stdout",
     "output_type": "stream",
     "text": [
      "<class 'pandas.core.frame.DataFrame'>\n",
      "Int64Index: 30905 entries, 12657 to 45210\n",
      "Data columns (total 16 columns):\n",
      " #   Column     Non-Null Count  Dtype \n",
      "---  ------     --------------  ----- \n",
      " 0   age        30905 non-null  int64 \n",
      " 1   job        30905 non-null  object\n",
      " 2   marital    30905 non-null  object\n",
      " 3   education  30905 non-null  object\n",
      " 4   default    30905 non-null  object\n",
      " 5   balance    30905 non-null  int64 \n",
      " 6   housing    30905 non-null  object\n",
      " 7   loan       30905 non-null  object\n",
      " 8   contact    30905 non-null  object\n",
      " 9   day        30905 non-null  int64 \n",
      " 10  month      30905 non-null  object\n",
      " 11  duration   30905 non-null  int64 \n",
      " 12  campaign   30905 non-null  int64 \n",
      " 13  pdays      30905 non-null  int64 \n",
      " 14  previous   30905 non-null  int64 \n",
      " 15  y          30905 non-null  object\n",
      "dtypes: int64(7), object(9)\n",
      "memory usage: 4.0+ MB\n"
     ]
    }
   ],
   "source": [
    "data_cl1=data.drop(data[['poutcome']],axis=1)\n",
    "data_cl1=data_cl1.dropna(axis=0)\n",
    "data_cl1.info()"
   ]
  },
  {
   "cell_type": "markdown",
   "metadata": {},
   "source": [
    "                        We left off with 30905 observations from 45210 "
   ]
  },
  {
   "cell_type": "markdown",
   "metadata": {},
   "source": [
    "# Exploring the bank additional dataset"
   ]
  },
  {
   "cell_type": "code",
   "execution_count": 16,
   "metadata": {},
   "outputs": [],
   "source": [
    "data_add=pd.read_csv('C:/Users/Fawzi/Desktop/bank-additional/bank-additional/bank-additional-full.csv',delimiter=\";\", na_values=[\"unknown\",\"nonexistent\"])"
   ]
  },
  {
   "cell_type": "code",
   "execution_count": 17,
   "metadata": {},
   "outputs": [
    {
     "data": {
      "text/plain": [
       "age                   0\n",
       "job                 330\n",
       "marital              80\n",
       "education          1731\n",
       "default            8597\n",
       "housing             990\n",
       "loan                990\n",
       "contact               0\n",
       "month                 0\n",
       "day_of_week           0\n",
       "duration              0\n",
       "campaign              0\n",
       "pdays                 0\n",
       "previous              0\n",
       "poutcome          35563\n",
       "emp.var.rate          0\n",
       "cons.price.idx        0\n",
       "cons.conf.idx         0\n",
       "euribor3m             0\n",
       "nr.employed           0\n",
       "y                     0\n",
       "dtype: int64"
      ]
     },
     "execution_count": 17,
     "metadata": {},
     "output_type": "execute_result"
    }
   ],
   "source": [
    "# data_add == bank_additional\n",
    "data_add.isnull().sum()"
   ]
  },
  {
   "cell_type": "code",
   "execution_count": 18,
   "metadata": {
    "scrolled": false
   },
   "outputs": [
    {
     "data": {
      "text/plain": [
       "False    41184\n",
       "True         4\n",
       "Name: duration, dtype: int64"
      ]
     },
     "execution_count": 18,
     "metadata": {},
     "output_type": "execute_result"
    }
   ],
   "source": [
    "(data_add['duration']==0).value_counts()"
   ]
  },
  {
   "cell_type": "code",
   "execution_count": 19,
   "metadata": {
    "scrolled": true
   },
   "outputs": [
    {
     "name": "stdout",
     "output_type": "stream",
     "text": [
      "<class 'pandas.core.frame.DataFrame'>\n",
      "RangeIndex: 41188 entries, 0 to 41187\n",
      "Data columns (total 21 columns):\n",
      " #   Column          Non-Null Count  Dtype  \n",
      "---  ------          --------------  -----  \n",
      " 0   age             41188 non-null  int64  \n",
      " 1   job             40858 non-null  object \n",
      " 2   marital         41108 non-null  object \n",
      " 3   education       39457 non-null  object \n",
      " 4   default         32591 non-null  object \n",
      " 5   housing         40198 non-null  object \n",
      " 6   loan            40198 non-null  object \n",
      " 7   contact         41188 non-null  object \n",
      " 8   month           41188 non-null  object \n",
      " 9   day_of_week     41188 non-null  object \n",
      " 10  duration        41188 non-null  int64  \n",
      " 11  campaign        41188 non-null  int64  \n",
      " 12  pdays           41188 non-null  int64  \n",
      " 13  previous        41188 non-null  int64  \n",
      " 14  poutcome        5625 non-null   object \n",
      " 15  emp.var.rate    41188 non-null  float64\n",
      " 16  cons.price.idx  41188 non-null  float64\n",
      " 17  cons.conf.idx   41188 non-null  float64\n",
      " 18  euribor3m       41188 non-null  float64\n",
      " 19  nr.employed     41188 non-null  float64\n",
      " 20  y               41188 non-null  object \n",
      "dtypes: float64(5), int64(5), object(11)\n",
      "memory usage: 6.6+ MB\n"
     ]
    }
   ],
   "source": [
    "data_add.info()"
   ]
  },
  {
   "cell_type": "markdown",
   "metadata": {},
   "source": [
    "### Bank additionnal cleansing:"
   ]
  },
  {
   "cell_type": "code",
   "execution_count": 20,
   "metadata": {},
   "outputs": [
    {
     "name": "stdout",
     "output_type": "stream",
     "text": [
      "<class 'pandas.core.frame.DataFrame'>\n",
      "Int64Index: 4652 entries, 24019 to 41187\n",
      "Data columns (total 21 columns):\n",
      " #   Column          Non-Null Count  Dtype  \n",
      "---  ------          --------------  -----  \n",
      " 0   age             4652 non-null   int64  \n",
      " 1   job             4652 non-null   object \n",
      " 2   marital         4652 non-null   object \n",
      " 3   education       4652 non-null   object \n",
      " 4   default         4652 non-null   object \n",
      " 5   housing         4652 non-null   object \n",
      " 6   loan            4652 non-null   object \n",
      " 7   contact         4652 non-null   object \n",
      " 8   month           4652 non-null   object \n",
      " 9   day_of_week     4652 non-null   object \n",
      " 10  duration        4652 non-null   int64  \n",
      " 11  campaign        4652 non-null   int64  \n",
      " 12  pdays           4652 non-null   int64  \n",
      " 13  previous        4652 non-null   int64  \n",
      " 14  poutcome        4652 non-null   object \n",
      " 15  emp.var.rate    4652 non-null   float64\n",
      " 16  cons.price.idx  4652 non-null   float64\n",
      " 17  cons.conf.idx   4652 non-null   float64\n",
      " 18  euribor3m       4652 non-null   float64\n",
      " 19  nr.employed     4652 non-null   float64\n",
      " 20  y               4652 non-null   object \n",
      "dtypes: float64(5), int64(5), object(11)\n",
      "memory usage: 799.6+ KB\n"
     ]
    }
   ],
   "source": [
    "data_add_cl=data_add.dropna(axis=0)\n",
    "data_add_cl.info()"
   ]
  },
  {
   "cell_type": "code",
   "execution_count": 21,
   "metadata": {},
   "outputs": [
    {
     "name": "stdout",
     "output_type": "stream",
     "text": [
      "<class 'pandas.core.frame.DataFrame'>\n",
      "Int64Index: 30488 entries, 0 to 41187\n",
      "Data columns (total 20 columns):\n",
      " #   Column          Non-Null Count  Dtype  \n",
      "---  ------          --------------  -----  \n",
      " 0   age             30488 non-null  int64  \n",
      " 1   job             30488 non-null  object \n",
      " 2   marital         30488 non-null  object \n",
      " 3   education       30488 non-null  object \n",
      " 4   default         30488 non-null  object \n",
      " 5   housing         30488 non-null  object \n",
      " 6   loan            30488 non-null  object \n",
      " 7   contact         30488 non-null  object \n",
      " 8   month           30488 non-null  object \n",
      " 9   day_of_week     30488 non-null  object \n",
      " 10  duration        30488 non-null  int64  \n",
      " 11  campaign        30488 non-null  int64  \n",
      " 12  pdays           30488 non-null  int64  \n",
      " 13  previous        30488 non-null  int64  \n",
      " 14  emp.var.rate    30488 non-null  float64\n",
      " 15  cons.price.idx  30488 non-null  float64\n",
      " 16  cons.conf.idx   30488 non-null  float64\n",
      " 17  euribor3m       30488 non-null  float64\n",
      " 18  nr.employed     30488 non-null  float64\n",
      " 19  y               30488 non-null  object \n",
      "dtypes: float64(5), int64(5), object(10)\n",
      "memory usage: 4.9+ MB\n"
     ]
    }
   ],
   "source": [
    "data_add_cl1=data_add.drop(data_add[['poutcome']],axis=1)\n",
    "data_add_cl1=data_add_cl1.dropna(axis=0)\n",
    "data_add_cl1.info()"
   ]
  },
  {
   "cell_type": "markdown",
   "metadata": {},
   "source": [
    "                         We left off with 30488 observations"
   ]
  },
  {
   "cell_type": "markdown",
   "metadata": {},
   "source": [
    "# Preprocessing the bank_full dataset"
   ]
  },
  {
   "cell_type": "code",
   "execution_count": 22,
   "metadata": {
    "scrolled": true
   },
   "outputs": [
    {
     "data": {
      "text/html": [
       "<div>\n",
       "<style scoped>\n",
       "    .dataframe tbody tr th:only-of-type {\n",
       "        vertical-align: middle;\n",
       "    }\n",
       "\n",
       "    .dataframe tbody tr th {\n",
       "        vertical-align: top;\n",
       "    }\n",
       "\n",
       "    .dataframe thead th {\n",
       "        text-align: right;\n",
       "    }\n",
       "</style>\n",
       "<table border=\"1\" class=\"dataframe\">\n",
       "  <thead>\n",
       "    <tr style=\"text-align: right;\">\n",
       "      <th></th>\n",
       "      <th>age</th>\n",
       "      <th>job</th>\n",
       "      <th>marital</th>\n",
       "      <th>education</th>\n",
       "      <th>default</th>\n",
       "      <th>balance</th>\n",
       "      <th>housing</th>\n",
       "      <th>loan</th>\n",
       "      <th>contact</th>\n",
       "      <th>day</th>\n",
       "      <th>month</th>\n",
       "      <th>duration</th>\n",
       "      <th>campaign</th>\n",
       "      <th>pdays</th>\n",
       "      <th>previous</th>\n",
       "      <th>y</th>\n",
       "    </tr>\n",
       "  </thead>\n",
       "  <tbody>\n",
       "    <tr>\n",
       "      <th>count</th>\n",
       "      <td>30905.000000</td>\n",
       "      <td>30905</td>\n",
       "      <td>30905</td>\n",
       "      <td>30905</td>\n",
       "      <td>30905</td>\n",
       "      <td>30905.000000</td>\n",
       "      <td>30905</td>\n",
       "      <td>30905</td>\n",
       "      <td>30905</td>\n",
       "      <td>30905.000000</td>\n",
       "      <td>30905</td>\n",
       "      <td>30905.000000</td>\n",
       "      <td>30905.000000</td>\n",
       "      <td>30905.000000</td>\n",
       "      <td>30905.000000</td>\n",
       "      <td>30905</td>\n",
       "    </tr>\n",
       "    <tr>\n",
       "      <th>unique</th>\n",
       "      <td>NaN</td>\n",
       "      <td>11</td>\n",
       "      <td>3</td>\n",
       "      <td>3</td>\n",
       "      <td>2</td>\n",
       "      <td>NaN</td>\n",
       "      <td>2</td>\n",
       "      <td>2</td>\n",
       "      <td>2</td>\n",
       "      <td>NaN</td>\n",
       "      <td>12</td>\n",
       "      <td>NaN</td>\n",
       "      <td>NaN</td>\n",
       "      <td>NaN</td>\n",
       "      <td>NaN</td>\n",
       "      <td>2</td>\n",
       "    </tr>\n",
       "    <tr>\n",
       "      <th>top</th>\n",
       "      <td>NaN</td>\n",
       "      <td>management</td>\n",
       "      <td>married</td>\n",
       "      <td>secondary</td>\n",
       "      <td>no</td>\n",
       "      <td>NaN</td>\n",
       "      <td>no</td>\n",
       "      <td>no</td>\n",
       "      <td>cellular</td>\n",
       "      <td>NaN</td>\n",
       "      <td>jul</td>\n",
       "      <td>NaN</td>\n",
       "      <td>NaN</td>\n",
       "      <td>NaN</td>\n",
       "      <td>NaN</td>\n",
       "      <td>no</td>\n",
       "    </tr>\n",
       "    <tr>\n",
       "      <th>freq</th>\n",
       "      <td>NaN</td>\n",
       "      <td>7329</td>\n",
       "      <td>18377</td>\n",
       "      <td>16002</td>\n",
       "      <td>30395</td>\n",
       "      <td>NaN</td>\n",
       "      <td>15563</td>\n",
       "      <td>25786</td>\n",
       "      <td>28211</td>\n",
       "      <td>NaN</td>\n",
       "      <td>6336</td>\n",
       "      <td>NaN</td>\n",
       "      <td>NaN</td>\n",
       "      <td>NaN</td>\n",
       "      <td>NaN</td>\n",
       "      <td>26392</td>\n",
       "    </tr>\n",
       "    <tr>\n",
       "      <th>mean</th>\n",
       "      <td>40.919431</td>\n",
       "      <td>NaN</td>\n",
       "      <td>NaN</td>\n",
       "      <td>NaN</td>\n",
       "      <td>NaN</td>\n",
       "      <td>1425.668630</td>\n",
       "      <td>NaN</td>\n",
       "      <td>NaN</td>\n",
       "      <td>NaN</td>\n",
       "      <td>15.967093</td>\n",
       "      <td>NaN</td>\n",
       "      <td>260.501861</td>\n",
       "      <td>2.750946</td>\n",
       "      <td>55.948520</td>\n",
       "      <td>0.808542</td>\n",
       "      <td>NaN</td>\n",
       "    </tr>\n",
       "    <tr>\n",
       "      <th>std</th>\n",
       "      <td>10.922739</td>\n",
       "      <td>NaN</td>\n",
       "      <td>NaN</td>\n",
       "      <td>NaN</td>\n",
       "      <td>NaN</td>\n",
       "      <td>3190.976569</td>\n",
       "      <td>NaN</td>\n",
       "      <td>NaN</td>\n",
       "      <td>NaN</td>\n",
       "      <td>8.226756</td>\n",
       "      <td>NaN</td>\n",
       "      <td>257.783787</td>\n",
       "      <td>2.953683</td>\n",
       "      <td>112.729647</td>\n",
       "      <td>2.706249</td>\n",
       "      <td>NaN</td>\n",
       "    </tr>\n",
       "    <tr>\n",
       "      <th>min</th>\n",
       "      <td>18.000000</td>\n",
       "      <td>NaN</td>\n",
       "      <td>NaN</td>\n",
       "      <td>NaN</td>\n",
       "      <td>NaN</td>\n",
       "      <td>-8019.000000</td>\n",
       "      <td>NaN</td>\n",
       "      <td>NaN</td>\n",
       "      <td>NaN</td>\n",
       "      <td>1.000000</td>\n",
       "      <td>NaN</td>\n",
       "      <td>1.000000</td>\n",
       "      <td>1.000000</td>\n",
       "      <td>-1.000000</td>\n",
       "      <td>0.000000</td>\n",
       "      <td>NaN</td>\n",
       "    </tr>\n",
       "    <tr>\n",
       "      <th>25%</th>\n",
       "      <td>32.000000</td>\n",
       "      <td>NaN</td>\n",
       "      <td>NaN</td>\n",
       "      <td>NaN</td>\n",
       "      <td>NaN</td>\n",
       "      <td>80.000000</td>\n",
       "      <td>NaN</td>\n",
       "      <td>NaN</td>\n",
       "      <td>NaN</td>\n",
       "      <td>9.000000</td>\n",
       "      <td>NaN</td>\n",
       "      <td>104.000000</td>\n",
       "      <td>1.000000</td>\n",
       "      <td>-1.000000</td>\n",
       "      <td>0.000000</td>\n",
       "      <td>NaN</td>\n",
       "    </tr>\n",
       "    <tr>\n",
       "      <th>50%</th>\n",
       "      <td>39.000000</td>\n",
       "      <td>NaN</td>\n",
       "      <td>NaN</td>\n",
       "      <td>NaN</td>\n",
       "      <td>NaN</td>\n",
       "      <td>473.000000</td>\n",
       "      <td>NaN</td>\n",
       "      <td>NaN</td>\n",
       "      <td>NaN</td>\n",
       "      <td>16.000000</td>\n",
       "      <td>NaN</td>\n",
       "      <td>181.000000</td>\n",
       "      <td>2.000000</td>\n",
       "      <td>-1.000000</td>\n",
       "      <td>0.000000</td>\n",
       "      <td>NaN</td>\n",
       "    </tr>\n",
       "    <tr>\n",
       "      <th>75%</th>\n",
       "      <td>48.000000</td>\n",
       "      <td>NaN</td>\n",
       "      <td>NaN</td>\n",
       "      <td>NaN</td>\n",
       "      <td>NaN</td>\n",
       "      <td>1502.000000</td>\n",
       "      <td>NaN</td>\n",
       "      <td>NaN</td>\n",
       "      <td>NaN</td>\n",
       "      <td>21.000000</td>\n",
       "      <td>NaN</td>\n",
       "      <td>322.000000</td>\n",
       "      <td>3.000000</td>\n",
       "      <td>10.000000</td>\n",
       "      <td>1.000000</td>\n",
       "      <td>NaN</td>\n",
       "    </tr>\n",
       "    <tr>\n",
       "      <th>max</th>\n",
       "      <td>95.000000</td>\n",
       "      <td>NaN</td>\n",
       "      <td>NaN</td>\n",
       "      <td>NaN</td>\n",
       "      <td>NaN</td>\n",
       "      <td>102127.000000</td>\n",
       "      <td>NaN</td>\n",
       "      <td>NaN</td>\n",
       "      <td>NaN</td>\n",
       "      <td>31.000000</td>\n",
       "      <td>NaN</td>\n",
       "      <td>4918.000000</td>\n",
       "      <td>50.000000</td>\n",
       "      <td>871.000000</td>\n",
       "      <td>275.000000</td>\n",
       "      <td>NaN</td>\n",
       "    </tr>\n",
       "  </tbody>\n",
       "</table>\n",
       "</div>"
      ],
      "text/plain": [
       "                 age         job  marital  education default        balance  \\\n",
       "count   30905.000000       30905    30905      30905   30905   30905.000000   \n",
       "unique           NaN          11        3          3       2            NaN   \n",
       "top              NaN  management  married  secondary      no            NaN   \n",
       "freq             NaN        7329    18377      16002   30395            NaN   \n",
       "mean       40.919431         NaN      NaN        NaN     NaN    1425.668630   \n",
       "std        10.922739         NaN      NaN        NaN     NaN    3190.976569   \n",
       "min        18.000000         NaN      NaN        NaN     NaN   -8019.000000   \n",
       "25%        32.000000         NaN      NaN        NaN     NaN      80.000000   \n",
       "50%        39.000000         NaN      NaN        NaN     NaN     473.000000   \n",
       "75%        48.000000         NaN      NaN        NaN     NaN    1502.000000   \n",
       "max        95.000000         NaN      NaN        NaN     NaN  102127.000000   \n",
       "\n",
       "       housing   loan   contact           day  month      duration  \\\n",
       "count    30905  30905     30905  30905.000000  30905  30905.000000   \n",
       "unique       2      2         2           NaN     12           NaN   \n",
       "top         no     no  cellular           NaN    jul           NaN   \n",
       "freq     15563  25786     28211           NaN   6336           NaN   \n",
       "mean       NaN    NaN       NaN     15.967093    NaN    260.501861   \n",
       "std        NaN    NaN       NaN      8.226756    NaN    257.783787   \n",
       "min        NaN    NaN       NaN      1.000000    NaN      1.000000   \n",
       "25%        NaN    NaN       NaN      9.000000    NaN    104.000000   \n",
       "50%        NaN    NaN       NaN     16.000000    NaN    181.000000   \n",
       "75%        NaN    NaN       NaN     21.000000    NaN    322.000000   \n",
       "max        NaN    NaN       NaN     31.000000    NaN   4918.000000   \n",
       "\n",
       "            campaign         pdays      previous      y  \n",
       "count   30905.000000  30905.000000  30905.000000  30905  \n",
       "unique           NaN           NaN           NaN      2  \n",
       "top              NaN           NaN           NaN     no  \n",
       "freq             NaN           NaN           NaN  26392  \n",
       "mean        2.750946     55.948520      0.808542    NaN  \n",
       "std         2.953683    112.729647      2.706249    NaN  \n",
       "min         1.000000     -1.000000      0.000000    NaN  \n",
       "25%         1.000000     -1.000000      0.000000    NaN  \n",
       "50%         2.000000     -1.000000      0.000000    NaN  \n",
       "75%         3.000000     10.000000      1.000000    NaN  \n",
       "max        50.000000    871.000000    275.000000    NaN  "
      ]
     },
     "execution_count": 22,
     "metadata": {},
     "output_type": "execute_result"
    }
   ],
   "source": [
    "data_cl1.describe(include='all')"
   ]
  },
  {
   "cell_type": "markdown",
   "metadata": {},
   "source": [
    "### Dealing with outliers:"
   ]
  },
  {
   "cell_type": "code",
   "execution_count": 23,
   "metadata": {
    "scrolled": true
   },
   "outputs": [
    {
     "data": {
      "text/plain": [
       "<matplotlib.axes._subplots.AxesSubplot at 0x20abc7f34c8>"
      ]
     },
     "execution_count": 23,
     "metadata": {},
     "output_type": "execute_result"
    },
    {
     "data": {
      "image/png": "[encoded data removed]",
      "text/plain": [
       "<Figure size 1080x360 with 1 Axes>"
      ]
     },
     "metadata": {},
     "output_type": "display_data"
    }
   ],
   "source": [
    "plt.figure(figsize=(15,5))\n",
    "sns.distplot(data_cl1['balance'])"
   ]
  },
  {
   "cell_type": "code",
   "execution_count": 24,
   "metadata": {
    "scrolled": true
   },
   "outputs": [
    {
     "data": {
      "text/plain": [
       "count     30905.000000\n",
       "mean       1425.668630\n",
       "std        3190.976569\n",
       "min       -8019.000000\n",
       "10%           0.000000\n",
       "20%          27.000000\n",
       "30%         140.000000\n",
       "50%         473.000000\n",
       "75%        1502.000000\n",
       "80%        1959.200000\n",
       "90%        3717.000000\n",
       "95%        5969.000000\n",
       "max      102127.000000\n",
       "Name: balance, dtype: float64"
      ]
     },
     "execution_count": 24,
     "metadata": {},
     "output_type": "execute_result"
    }
   ],
   "source": [
    "data_cl1['balance'].describe(percentiles=[0.1,0.2,0.3,0.5,0.75,0.8,0.9,0.95])"
   ]
  },
  {
   "cell_type": "code",
   "execution_count": 25,
   "metadata": {},
   "outputs": [
    {
     "data": {
      "text/plain": [
       "13711.0"
      ]
     },
     "execution_count": 25,
     "metadata": {},
     "output_type": "execute_result"
    }
   ],
   "source": [
    "q=data_cl1['balance'].quantile(0.99)\n",
    "q"
   ]
  },
  {
   "cell_type": "code",
   "execution_count": 26,
   "metadata": {},
   "outputs": [
    {
     "name": "stdout",
     "output_type": "stream",
     "text": [
      "<class 'pandas.core.frame.DataFrame'>\n",
      "Int64Index: 2224 entries, 12662 to 44908\n",
      "Data columns (total 16 columns):\n",
      " #   Column     Non-Null Count  Dtype \n",
      "---  ------     --------------  ----- \n",
      " 0   age        2224 non-null   int64 \n",
      " 1   job        2224 non-null   object\n",
      " 2   marital    2224 non-null   object\n",
      " 3   education  2224 non-null   object\n",
      " 4   default    2224 non-null   object\n",
      " 5   balance    2224 non-null   int64 \n",
      " 6   housing    2224 non-null   object\n",
      " 7   loan       2224 non-null   object\n",
      " 8   contact    2224 non-null   object\n",
      " 9   day        2224 non-null   int64 \n",
      " 10  month      2224 non-null   object\n",
      " 11  duration   2224 non-null   int64 \n",
      " 12  campaign   2224 non-null   int64 \n",
      " 13  pdays      2224 non-null   int64 \n",
      " 14  previous   2224 non-null   int64 \n",
      " 15  y          2224 non-null   object\n",
      "dtypes: int64(7), object(9)\n",
      "memory usage: 295.4+ KB\n"
     ]
    }
   ],
   "source": [
    "in_debt=data_cl1[data_cl1['balance']<0]\n",
    "in_debt.info()"
   ]
  },
  {
   "cell_type": "code",
   "execution_count": 27,
   "metadata": {},
   "outputs": [
    {
     "data": {
      "text/plain": [
       "no     2064\n",
       "yes     160\n",
       "Name: y, dtype: int64"
      ]
     },
     "execution_count": 27,
     "metadata": {},
     "output_type": "execute_result"
    }
   ],
   "source": [
    "in_debt['y'].value_counts()"
   ]
  },
  {
   "cell_type": "code",
   "execution_count": 28,
   "metadata": {},
   "outputs": [
    {
     "data": {
      "text/plain": [
       "<matplotlib.axes._subplots.AxesSubplot at 0x20abe043ac8>"
      ]
     },
     "execution_count": 28,
     "metadata": {},
     "output_type": "execute_result"
    },
    {
     "data": {
      "image/png": "[encoded data removed]",
      "text/plain": [
       "<Figure size 432x288 with 1 Axes>"
      ]
     },
     "metadata": {},
     "output_type": "display_data"
    }
   ],
   "source": [
    "b1=data_cl1[data_cl1['balance']<q]\n",
    "sns.distplot(b1['balance'])"
   ]
  },
  {
   "cell_type": "code",
   "execution_count": 29,
   "metadata": {
    "scrolled": true
   },
   "outputs": [
    {
     "name": "stdout",
     "output_type": "stream",
     "text": [
      "<class 'pandas.core.frame.DataFrame'>\n",
      "Int64Index: 30594 entries, 12657 to 45210\n",
      "Data columns (total 16 columns):\n",
      " #   Column     Non-Null Count  Dtype \n",
      "---  ------     --------------  ----- \n",
      " 0   age        30594 non-null  int64 \n",
      " 1   job        30594 non-null  object\n",
      " 2   marital    30594 non-null  object\n",
      " 3   education  30594 non-null  object\n",
      " 4   default    30594 non-null  object\n",
      " 5   balance    30594 non-null  int64 \n",
      " 6   housing    30594 non-null  object\n",
      " 7   loan       30594 non-null  object\n",
      " 8   contact    30594 non-null  object\n",
      " 9   day        30594 non-null  int64 \n",
      " 10  month      30594 non-null  object\n",
      " 11  duration   30594 non-null  int64 \n",
      " 12  campaign   30594 non-null  int64 \n",
      " 13  pdays      30594 non-null  int64 \n",
      " 14  previous   30594 non-null  int64 \n",
      " 15  y          30594 non-null  object\n",
      "dtypes: int64(7), object(9)\n",
      "memory usage: 4.0+ MB\n"
     ]
    }
   ],
   "source": [
    "b1.info()"
   ]
  },
  {
   "cell_type": "code",
   "execution_count": 30,
   "metadata": {},
   "outputs": [
    {
     "data": {
      "text/plain": [
       "1274.8799999999974"
      ]
     },
     "execution_count": 30,
     "metadata": {},
     "output_type": "execute_result"
    }
   ],
   "source": [
    "q_d=data_cl1['duration'].quantile(0.99)\n",
    "q_d"
   ]
  },
  {
   "cell_type": "code",
   "execution_count": 31,
   "metadata": {
    "scrolled": true
   },
   "outputs": [
    {
     "data": {
      "text/plain": [
       "<matplotlib.axes._subplots.AxesSubplot at 0x20abe5d4748>"
      ]
     },
     "execution_count": 31,
     "metadata": {},
     "output_type": "execute_result"
    },
    {
     "data": {
      "image/png": "[encoded data removed]",
      "text/plain": [
       "<Figure size 432x288 with 1 Axes>"
      ]
     },
     "metadata": {},
     "output_type": "display_data"
    }
   ],
   "source": [
    "sns.distplot(data_cl1['duration'])"
   ]
  },
  {
   "cell_type": "code",
   "execution_count": 32,
   "metadata": {},
   "outputs": [
    {
     "name": "stdout",
     "output_type": "stream",
     "text": [
      "<class 'pandas.core.frame.DataFrame'>\n",
      "Int64Index: 30289 entries, 12657 to 45210\n",
      "Data columns (total 16 columns):\n",
      " #   Column     Non-Null Count  Dtype \n",
      "---  ------     --------------  ----- \n",
      " 0   age        30289 non-null  int64 \n",
      " 1   job        30289 non-null  object\n",
      " 2   marital    30289 non-null  object\n",
      " 3   education  30289 non-null  object\n",
      " 4   default    30289 non-null  object\n",
      " 5   balance    30289 non-null  int64 \n",
      " 6   housing    30289 non-null  object\n",
      " 7   loan       30289 non-null  object\n",
      " 8   contact    30289 non-null  object\n",
      " 9   day        30289 non-null  int64 \n",
      " 10  month      30289 non-null  object\n",
      " 11  duration   30289 non-null  int64 \n",
      " 12  campaign   30289 non-null  int64 \n",
      " 13  pdays      30289 non-null  int64 \n",
      " 14  previous   30289 non-null  int64 \n",
      " 15  y          30289 non-null  object\n",
      "dtypes: int64(7), object(9)\n",
      "memory usage: 3.9+ MB\n"
     ]
    }
   ],
   "source": [
    "b1=b1[b1['duration']<q_d]\n",
    "b1.info()"
   ]
  },
  {
   "cell_type": "code",
   "execution_count": 33,
   "metadata": {
    "scrolled": false
   },
   "outputs": [
    {
     "data": {
      "text/plain": [
       "<matplotlib.axes._subplots.AxesSubplot at 0x20abebd8388>"
      ]
     },
     "execution_count": 33,
     "metadata": {},
     "output_type": "execute_result"
    },
    {
     "data": {
      "image/png": "[encoded data removed]",
      "text/plain": [
       "<Figure size 432x288 with 1 Axes>"
      ]
     },
     "metadata": {},
     "output_type": "display_data"
    }
   ],
   "source": [
    "sns.distplot(b1['duration'])"
   ]
  },
  {
   "cell_type": "markdown",
   "metadata": {},
   "source": [
    "#### campaign & previous\"\n",
    "   ##### are 2 discrete variables represent the number of contacts performed during and before the campaign for this client"
   ]
  },
  {
   "cell_type": "code",
   "execution_count": 34,
   "metadata": {
    "scrolled": true
   },
   "outputs": [
    {
     "data": {
      "text/plain": [
       "<matplotlib.axes._subplots.AxesSubplot at 0x20abe5d4d48>"
      ]
     },
     "execution_count": 34,
     "metadata": {},
     "output_type": "execute_result"
    },
    {
     "data": {
      "image/png": "[encoded data removed]",
      "text/plain": [
       "<Figure size 432x288 with 1 Axes>"
      ]
     },
     "metadata": {},
     "output_type": "display_data"
    }
   ],
   "source": [
    "sns.distplot(b1['campaign'])"
   ]
  },
  {
   "cell_type": "code",
   "execution_count": 35,
   "metadata": {},
   "outputs": [
    {
     "data": {
      "text/plain": [
       "<matplotlib.axes._subplots.AxesSubplot at 0x20abe8fa5c8>"
      ]
     },
     "execution_count": 35,
     "metadata": {},
     "output_type": "execute_result"
    },
    {
     "data": {
      "image/png": "[encoded data removed]",
      "text/plain": [
       "<Figure size 432x288 with 1 Axes>"
      ]
     },
     "metadata": {},
     "output_type": "display_data"
    }
   ],
   "source": [
    "sns.scatterplot(x='campaign', y='previous', data=b1, hue='y')"
   ]
  },
  {
   "cell_type": "code",
   "execution_count": 36,
   "metadata": {},
   "outputs": [
    {
     "data": {
      "text/plain": [
       "count    30289.000000\n",
       "mean         0.811615\n",
       "std          2.717986\n",
       "min          0.000000\n",
       "10%          0.000000\n",
       "25%          0.000000\n",
       "50%          0.000000\n",
       "75%          1.000000\n",
       "80%          1.000000\n",
       "90%          3.000000\n",
       "95%          4.000000\n",
       "99%         10.000000\n",
       "max        275.000000\n",
       "Name: previous, dtype: float64"
      ]
     },
     "execution_count": 36,
     "metadata": {},
     "output_type": "execute_result"
    }
   ],
   "source": [
    "b1['previous'].describe(percentiles=[0.1, 0.25, 0.5 ,0.75 ,0.8,0.9,0.95,0.99])"
   ]
  },
  {
   "cell_type": "code",
   "execution_count": 37,
   "metadata": {},
   "outputs": [],
   "source": [
    "b1=b1[b1['previous']< 200]"
   ]
  },
  {
   "cell_type": "code",
   "execution_count": 38,
   "metadata": {
    "scrolled": true
   },
   "outputs": [
    {
     "data": {
      "text/plain": [
       "count    30288.000000\n",
       "mean         2.750231\n",
       "std          2.955071\n",
       "min          1.000000\n",
       "25%          1.000000\n",
       "50%          2.000000\n",
       "75%          3.000000\n",
       "max         50.000000\n",
       "Name: campaign, dtype: float64"
      ]
     },
     "execution_count": 38,
     "metadata": {},
     "output_type": "execute_result"
    }
   ],
   "source": [
    "b1['campaign'].describe()"
   ]
  },
  {
   "cell_type": "code",
   "execution_count": 39,
   "metadata": {},
   "outputs": [
    {
     "data": {
      "text/plain": [
       "16.0"
      ]
     },
     "execution_count": 39,
     "metadata": {},
     "output_type": "execute_result"
    }
   ],
   "source": [
    "q_c=data_cl1['campaign'].quantile(0.99)\n",
    "q_c"
   ]
  },
  {
   "cell_type": "code",
   "execution_count": 40,
   "metadata": {},
   "outputs": [],
   "source": [
    "b1=b1[b1['campaign']<q_c]"
   ]
  },
  {
   "cell_type": "code",
   "execution_count": 41,
   "metadata": {
    "scrolled": false
   },
   "outputs": [
    {
     "data": {
      "text/plain": [
       "count    29967.000000\n",
       "mean         2.547235\n",
       "std          2.137149\n",
       "min          1.000000\n",
       "25%          1.000000\n",
       "50%          2.000000\n",
       "75%          3.000000\n",
       "max         15.000000\n",
       "Name: campaign, dtype: float64"
      ]
     },
     "execution_count": 41,
     "metadata": {},
     "output_type": "execute_result"
    }
   ],
   "source": [
    "b1['campaign'].describe()"
   ]
  },
  {
   "cell_type": "markdown",
   "metadata": {},
   "source": [
    "#### Examining month and day features:"
   ]
  },
  {
   "cell_type": "code",
   "execution_count": 42,
   "metadata": {},
   "outputs": [],
   "source": [
    "b1['month']=b1['month'].map({'jan':1, 'feb':2, 'mar':3,'apr':4,'may':5,'jun':6,'jul':7,'aug':8,'sep':9,'oct':10,'nov':11,'dec':12})"
   ]
  },
  {
   "cell_type": "code",
   "execution_count": null,
   "metadata": {},
   "outputs": [],
   "source": []
  },
  {
   "cell_type": "code",
   "execution_count": 43,
   "metadata": {},
   "outputs": [],
   "source": [
    "## Creating a checkpoint for the data we will preprocess to be fitted into the RandomForest Model\n",
    "RF_data=b1.copy()"
   ]
  },
  {
   "cell_type": "code",
   "execution_count": null,
   "metadata": {},
   "outputs": [],
   "source": []
  },
  {
   "cell_type": "markdown",
   "metadata": {},
   "source": [
    "# Preprocessing the data for a Random Forest Model"
   ]
  },
  {
   "cell_type": "markdown",
   "metadata": {},
   "source": [
    "### drop the ['duration' and 'pdays'] features"
   ]
  },
  {
   "cell_type": "code",
   "execution_count": 44,
   "metadata": {},
   "outputs": [],
   "source": [
    "rf_data=RF_data.drop(RF_data[['pdays']],axis=1)"
   ]
  },
  {
   "cell_type": "markdown",
   "metadata": {},
   "source": [
    "## Preprocessing the binary features"
   ]
  },
  {
   "cell_type": "code",
   "execution_count": 45,
   "metadata": {},
   "outputs": [],
   "source": [
    "rf_data['housing']=rf_data['housing'].map({'yes':1, 'no':0})\n",
    "rf_data['default']=rf_data['default'].map({'yes':1, 'no':0})\n",
    "rf_data['loan']=rf_data['loan'].map({'yes':1, 'no':0})"
   ]
  },
  {
   "cell_type": "markdown",
   "metadata": {},
   "source": [
    "### transform education to a binary feature:\n",
    "    -higher degree --> 1\n",
    "    -school degree --> 0"
   ]
  },
  {
   "cell_type": "code",
   "execution_count": 46,
   "metadata": {},
   "outputs": [],
   "source": [
    "rf_data['education']=rf_data['education'].map({'secondary':0, 'primary':0, 'tertiary':1})"
   ]
  },
  {
   "cell_type": "markdown",
   "metadata": {},
   "source": [
    "## Dealing with object features: using get.dummies method\n",
    "    without drop_first=True, because multicollinearity has no impact on Tree based model\n",
    "    Create a loop which will create the dummies, concatenate them, and drop the original feature"
   ]
  },
  {
   "cell_type": "code",
   "execution_count": 47,
   "metadata": {},
   "outputs": [
    {
     "name": "stdout",
     "output_type": "stream",
     "text": [
      "<class 'pandas.core.frame.DataFrame'>\n",
      "Int64Index: 29967 entries, 12657 to 45210\n",
      "Data columns (total 28 columns):\n",
      " #   Column         Non-Null Count  Dtype \n",
      "---  ------         --------------  ----- \n",
      " 0   age            29967 non-null  int64 \n",
      " 1   education      29967 non-null  int64 \n",
      " 2   default        29967 non-null  int64 \n",
      " 3   balance        29967 non-null  int64 \n",
      " 4   housing        29967 non-null  int64 \n",
      " 5   loan           29967 non-null  int64 \n",
      " 6   day            29967 non-null  int64 \n",
      " 7   month          29967 non-null  int64 \n",
      " 8   duration       29967 non-null  int64 \n",
      " 9   campaign       29967 non-null  int64 \n",
      " 10  previous       29967 non-null  int64 \n",
      " 11  y              29967 non-null  object\n",
      " 12  admin.         29967 non-null  uint8 \n",
      " 13  blue-collar    29967 non-null  uint8 \n",
      " 14  entrepreneur   29967 non-null  uint8 \n",
      " 15  housemaid      29967 non-null  uint8 \n",
      " 16  management     29967 non-null  uint8 \n",
      " 17  retired        29967 non-null  uint8 \n",
      " 18  self-employed  29967 non-null  uint8 \n",
      " 19  services       29967 non-null  uint8 \n",
      " 20  student        29967 non-null  uint8 \n",
      " 21  technician     29967 non-null  uint8 \n",
      " 22  unemployed     29967 non-null  uint8 \n",
      " 23  divorced       29967 non-null  uint8 \n",
      " 24  married        29967 non-null  uint8 \n",
      " 25  single         29967 non-null  uint8 \n",
      " 26  cellular       29967 non-null  uint8 \n",
      " 27  telephone      29967 non-null  uint8 \n",
      "dtypes: int64(11), object(1), uint8(16)\n",
      "memory usage: 3.4+ MB\n"
     ]
    }
   ],
   "source": [
    "for i in ['job','marital', 'contact']:\n",
    "    dummies=pd.get_dummies(rf_data[i])\n",
    "    rf_data=pd.concat([rf_data,dummies], axis=1)\n",
    "    rf_data=rf_data.drop(rf_data[[i]],axis=1)\n",
    "rf_data.info()"
   ]
  },
  {
   "cell_type": "code",
   "execution_count": 48,
   "metadata": {},
   "outputs": [],
   "source": [
    "## labeling the Target feature: subscribed--> 1 , unsubscribed --> 0\n",
    "\n",
    "rf_data['y']=rf_data['y'].map({'yes':1, 'no':0})"
   ]
  },
  {
   "cell_type": "code",
   "execution_count": 49,
   "metadata": {},
   "outputs": [],
   "source": [
    "rf_data_p = rf_data.reindex(['age', 'balance','duration', 'campaign', 'previous', 'education', 'default', 'housing', 'loan',  'admin.','blue-collar', 'entrepreneur', 'housemaid', 'management',\n",
    "       'retired', 'self-employed', 'services', 'student', 'technician','unemployed', 'divorced', 'married', 'single', 'cellular',\n",
    "       'telephone', 'day','month', 'y'], axis=1)"
   ]
  },
  {
   "cell_type": "code",
   "execution_count": 50,
   "metadata": {},
   "outputs": [
    {
     "data": {
      "text/html": [
       "<div>\n",
       "<style scoped>\n",
       "    .dataframe tbody tr th:only-of-type {\n",
       "        vertical-align: middle;\n",
       "    }\n",
       "\n",
       "    .dataframe tbody tr th {\n",
       "        vertical-align: top;\n",
       "    }\n",
       "\n",
       "    .dataframe thead th {\n",
       "        text-align: right;\n",
       "    }\n",
       "</style>\n",
       "<table border=\"1\" class=\"dataframe\">\n",
       "  <thead>\n",
       "    <tr style=\"text-align: right;\">\n",
       "      <th></th>\n",
       "      <th>age</th>\n",
       "      <th>balance</th>\n",
       "      <th>duration</th>\n",
       "      <th>campaign</th>\n",
       "      <th>previous</th>\n",
       "      <th>education</th>\n",
       "      <th>default</th>\n",
       "      <th>housing</th>\n",
       "      <th>loan</th>\n",
       "      <th>admin.</th>\n",
       "      <th>...</th>\n",
       "      <th>technician</th>\n",
       "      <th>unemployed</th>\n",
       "      <th>divorced</th>\n",
       "      <th>married</th>\n",
       "      <th>single</th>\n",
       "      <th>cellular</th>\n",
       "      <th>telephone</th>\n",
       "      <th>day</th>\n",
       "      <th>month</th>\n",
       "      <th>y</th>\n",
       "    </tr>\n",
       "  </thead>\n",
       "  <tbody>\n",
       "    <tr>\n",
       "      <th>count</th>\n",
       "      <td>29967.00000</td>\n",
       "      <td>29967.000000</td>\n",
       "      <td>29967.000000</td>\n",
       "      <td>29967.000000</td>\n",
       "      <td>29967.000000</td>\n",
       "      <td>29967.000000</td>\n",
       "      <td>29967.000000</td>\n",
       "      <td>29967.000000</td>\n",
       "      <td>29967.000000</td>\n",
       "      <td>29967.000000</td>\n",
       "      <td>...</td>\n",
       "      <td>29967.000000</td>\n",
       "      <td>29967.000000</td>\n",
       "      <td>29967.000000</td>\n",
       "      <td>29967.000000</td>\n",
       "      <td>29967.000000</td>\n",
       "      <td>29967.000000</td>\n",
       "      <td>29967.000000</td>\n",
       "      <td>29967.000000</td>\n",
       "      <td>29967.000000</td>\n",
       "      <td>29967.000000</td>\n",
       "    </tr>\n",
       "    <tr>\n",
       "      <th>mean</th>\n",
       "      <td>40.87870</td>\n",
       "      <td>1208.985484</td>\n",
       "      <td>248.221978</td>\n",
       "      <td>2.547235</td>\n",
       "      <td>0.810692</td>\n",
       "      <td>0.341042</td>\n",
       "      <td>0.016485</td>\n",
       "      <td>0.498582</td>\n",
       "      <td>0.166250</td>\n",
       "      <td>0.115527</td>\n",
       "      <td>...</td>\n",
       "      <td>0.179698</td>\n",
       "      <td>0.030901</td>\n",
       "      <td>0.113124</td>\n",
       "      <td>0.593987</td>\n",
       "      <td>0.292889</td>\n",
       "      <td>0.914039</td>\n",
       "      <td>0.085961</td>\n",
       "      <td>15.848233</td>\n",
       "      <td>6.407548</td>\n",
       "      <td>0.142423</td>\n",
       "    </tr>\n",
       "    <tr>\n",
       "      <th>std</th>\n",
       "      <td>10.90206</td>\n",
       "      <td>1988.111573</td>\n",
       "      <td>214.462617</td>\n",
       "      <td>2.137149</td>\n",
       "      <td>2.223774</td>\n",
       "      <td>0.474067</td>\n",
       "      <td>0.127333</td>\n",
       "      <td>0.500006</td>\n",
       "      <td>0.372311</td>\n",
       "      <td>0.319662</td>\n",
       "      <td>...</td>\n",
       "      <td>0.383942</td>\n",
       "      <td>0.173051</td>\n",
       "      <td>0.316750</td>\n",
       "      <td>0.491095</td>\n",
       "      <td>0.455095</td>\n",
       "      <td>0.280311</td>\n",
       "      <td>0.280311</td>\n",
       "      <td>8.187582</td>\n",
       "      <td>2.761237</td>\n",
       "      <td>0.349490</td>\n",
       "    </tr>\n",
       "    <tr>\n",
       "      <th>min</th>\n",
       "      <td>18.00000</td>\n",
       "      <td>-8019.000000</td>\n",
       "      <td>2.000000</td>\n",
       "      <td>1.000000</td>\n",
       "      <td>0.000000</td>\n",
       "      <td>0.000000</td>\n",
       "      <td>0.000000</td>\n",
       "      <td>0.000000</td>\n",
       "      <td>0.000000</td>\n",
       "      <td>0.000000</td>\n",
       "      <td>...</td>\n",
       "      <td>0.000000</td>\n",
       "      <td>0.000000</td>\n",
       "      <td>0.000000</td>\n",
       "      <td>0.000000</td>\n",
       "      <td>0.000000</td>\n",
       "      <td>0.000000</td>\n",
       "      <td>0.000000</td>\n",
       "      <td>1.000000</td>\n",
       "      <td>1.000000</td>\n",
       "      <td>0.000000</td>\n",
       "    </tr>\n",
       "    <tr>\n",
       "      <th>25%</th>\n",
       "      <td>32.00000</td>\n",
       "      <td>79.000000</td>\n",
       "      <td>104.000000</td>\n",
       "      <td>1.000000</td>\n",
       "      <td>0.000000</td>\n",
       "      <td>0.000000</td>\n",
       "      <td>0.000000</td>\n",
       "      <td>0.000000</td>\n",
       "      <td>0.000000</td>\n",
       "      <td>0.000000</td>\n",
       "      <td>...</td>\n",
       "      <td>0.000000</td>\n",
       "      <td>0.000000</td>\n",
       "      <td>0.000000</td>\n",
       "      <td>0.000000</td>\n",
       "      <td>0.000000</td>\n",
       "      <td>1.000000</td>\n",
       "      <td>0.000000</td>\n",
       "      <td>9.000000</td>\n",
       "      <td>5.000000</td>\n",
       "      <td>0.000000</td>\n",
       "    </tr>\n",
       "    <tr>\n",
       "      <th>50%</th>\n",
       "      <td>39.00000</td>\n",
       "      <td>464.000000</td>\n",
       "      <td>180.000000</td>\n",
       "      <td>2.000000</td>\n",
       "      <td>0.000000</td>\n",
       "      <td>0.000000</td>\n",
       "      <td>0.000000</td>\n",
       "      <td>0.000000</td>\n",
       "      <td>0.000000</td>\n",
       "      <td>0.000000</td>\n",
       "      <td>...</td>\n",
       "      <td>0.000000</td>\n",
       "      <td>0.000000</td>\n",
       "      <td>0.000000</td>\n",
       "      <td>1.000000</td>\n",
       "      <td>0.000000</td>\n",
       "      <td>1.000000</td>\n",
       "      <td>0.000000</td>\n",
       "      <td>16.000000</td>\n",
       "      <td>7.000000</td>\n",
       "      <td>0.000000</td>\n",
       "    </tr>\n",
       "    <tr>\n",
       "      <th>75%</th>\n",
       "      <td>48.00000</td>\n",
       "      <td>1445.000000</td>\n",
       "      <td>317.000000</td>\n",
       "      <td>3.000000</td>\n",
       "      <td>1.000000</td>\n",
       "      <td>1.000000</td>\n",
       "      <td>0.000000</td>\n",
       "      <td>1.000000</td>\n",
       "      <td>0.000000</td>\n",
       "      <td>0.000000</td>\n",
       "      <td>...</td>\n",
       "      <td>0.000000</td>\n",
       "      <td>0.000000</td>\n",
       "      <td>0.000000</td>\n",
       "      <td>1.000000</td>\n",
       "      <td>1.000000</td>\n",
       "      <td>1.000000</td>\n",
       "      <td>0.000000</td>\n",
       "      <td>21.000000</td>\n",
       "      <td>8.000000</td>\n",
       "      <td>0.000000</td>\n",
       "    </tr>\n",
       "    <tr>\n",
       "      <th>max</th>\n",
       "      <td>95.00000</td>\n",
       "      <td>13683.000000</td>\n",
       "      <td>1272.000000</td>\n",
       "      <td>15.000000</td>\n",
       "      <td>58.000000</td>\n",
       "      <td>1.000000</td>\n",
       "      <td>1.000000</td>\n",
       "      <td>1.000000</td>\n",
       "      <td>1.000000</td>\n",
       "      <td>1.000000</td>\n",
       "      <td>...</td>\n",
       "      <td>1.000000</td>\n",
       "      <td>1.000000</td>\n",
       "      <td>1.000000</td>\n",
       "      <td>1.000000</td>\n",
       "      <td>1.000000</td>\n",
       "      <td>1.000000</td>\n",
       "      <td>1.000000</td>\n",
       "      <td>31.000000</td>\n",
       "      <td>12.000000</td>\n",
       "      <td>1.000000</td>\n",
       "    </tr>\n",
       "  </tbody>\n",
       "</table>\n",
       "<p>8 rows × 28 columns</p>\n",
       "</div>"
      ],
      "text/plain": [
       "               age       balance      duration      campaign      previous  \\\n",
       "count  29967.00000  29967.000000  29967.000000  29967.000000  29967.000000   \n",
       "mean      40.87870   1208.985484    248.221978      2.547235      0.810692   \n",
       "std       10.90206   1988.111573    214.462617      2.137149      2.223774   \n",
       "min       18.00000  -8019.000000      2.000000      1.000000      0.000000   \n",
       "25%       32.00000     79.000000    104.000000      1.000000      0.000000   \n",
       "50%       39.00000    464.000000    180.000000      2.000000      0.000000   \n",
       "75%       48.00000   1445.000000    317.000000      3.000000      1.000000   \n",
       "max       95.00000  13683.000000   1272.000000     15.000000     58.000000   \n",
       "\n",
       "          education       default       housing          loan        admin.  \\\n",
       "count  29967.000000  29967.000000  29967.000000  29967.000000  29967.000000   \n",
       "mean       0.341042      0.016485      0.498582      0.166250      0.115527   \n",
       "std        0.474067      0.127333      0.500006      0.372311      0.319662   \n",
       "min        0.000000      0.000000      0.000000      0.000000      0.000000   \n",
       "25%        0.000000      0.000000      0.000000      0.000000      0.000000   \n",
       "50%        0.000000      0.000000      0.000000      0.000000      0.000000   \n",
       "75%        1.000000      0.000000      1.000000      0.000000      0.000000   \n",
       "max        1.000000      1.000000      1.000000      1.000000      1.000000   \n",
       "\n",
       "       ...    technician    unemployed      divorced       married  \\\n",
       "count  ...  29967.000000  29967.000000  29967.000000  29967.000000   \n",
       "mean   ...      0.179698      0.030901      0.113124      0.593987   \n",
       "std    ...      0.383942      0.173051      0.316750      0.491095   \n",
       "min    ...      0.000000      0.000000      0.000000      0.000000   \n",
       "25%    ...      0.000000      0.000000      0.000000      0.000000   \n",
       "50%    ...      0.000000      0.000000      0.000000      1.000000   \n",
       "75%    ...      0.000000      0.000000      0.000000      1.000000   \n",
       "max    ...      1.000000      1.000000      1.000000      1.000000   \n",
       "\n",
       "             single      cellular     telephone           day         month  \\\n",
       "count  29967.000000  29967.000000  29967.000000  29967.000000  29967.000000   \n",
       "mean       0.292889      0.914039      0.085961     15.848233      6.407548   \n",
       "std        0.455095      0.280311      0.280311      8.187582      2.761237   \n",
       "min        0.000000      0.000000      0.000000      1.000000      1.000000   \n",
       "25%        0.000000      1.000000      0.000000      9.000000      5.000000   \n",
       "50%        0.000000      1.000000      0.000000     16.000000      7.000000   \n",
       "75%        1.000000      1.000000      0.000000     21.000000      8.000000   \n",
       "max        1.000000      1.000000      1.000000     31.000000     12.000000   \n",
       "\n",
       "                  y  \n",
       "count  29967.000000  \n",
       "mean       0.142423  \n",
       "std        0.349490  \n",
       "min        0.000000  \n",
       "25%        0.000000  \n",
       "50%        0.000000  \n",
       "75%        0.000000  \n",
       "max        1.000000  \n",
       "\n",
       "[8 rows x 28 columns]"
      ]
     },
     "execution_count": 50,
     "metadata": {},
     "output_type": "execute_result"
    }
   ],
   "source": [
    "rf_data_p.describe()"
   ]
  },
  {
   "cell_type": "code",
   "execution_count": 55,
   "metadata": {},
   "outputs": [
    {
     "name": "stdout",
     "output_type": "stream",
     "text": [
      "to save our preprocessed data, write: rf_data_p.to_csv(\"..\\DG-Project\\BD-rf-prep.csv\", index=False)\n"
     ]
    }
   ],
   "source": [
    "print('to save our preprocessed data, write:','rf_data_p.to_csv(\"..\\DG-Project\\BD-rf-prep.csv\", index=False)')"
   ]
  },
  {
   "cell_type": "markdown",
   "metadata": {},
   "source": [
    "### pdays"
   ]
  },
  {
   "cell_type": "code",
   "execution_count": 56,
   "metadata": {},
   "outputs": [
    {
     "data": {
      "text/plain": [
       "count    29967.000000\n",
       "mean        56.840358\n",
       "std        113.423722\n",
       "min         -1.000000\n",
       "25%         -1.000000\n",
       "50%         -1.000000\n",
       "75%         47.500000\n",
       "max        871.000000\n",
       "Name: pdays, dtype: float64"
      ]
     },
     "execution_count": 56,
     "metadata": {},
     "output_type": "execute_result"
    }
   ],
   "source": [
    "b1['pdays'].describe()"
   ]
  },
  {
   "cell_type": "code",
   "execution_count": 57,
   "metadata": {},
   "outputs": [
    {
     "data": {
      "text/plain": [
       "<matplotlib.axes._subplots.AxesSubplot at 0x20abec28f08>"
      ]
     },
     "execution_count": 57,
     "metadata": {},
     "output_type": "execute_result"
    },
    {
     "data": {
      "image/png": "[encoded data removed]",
      "text/plain": [
       "<Figure size 432x288 with 1 Axes>"
      ]
     },
     "metadata": {},
     "output_type": "display_data"
    }
   ],
   "source": [
    "sns.distplot(b1['pdays'])"
   ]
  },
  {
   "cell_type": "code",
   "execution_count": 58,
   "metadata": {},
   "outputs": [
    {
     "data": {
      "text/plain": [
       "no     19718\n",
       "yes     2530\n",
       "Name: y, dtype: int64"
      ]
     },
     "execution_count": 58,
     "metadata": {},
     "output_type": "execute_result"
    }
   ],
   "source": [
    "x1=b1[b1['pdays']==-1]\n",
    "x1['y'].value_counts()"
   ]
  },
  {
   "cell_type": "code",
   "execution_count": 59,
   "metadata": {},
   "outputs": [
    {
     "data": {
      "text/plain": [
       "no     25699\n",
       "yes     4268\n",
       "Name: y, dtype: int64"
      ]
     },
     "execution_count": 59,
     "metadata": {},
     "output_type": "execute_result"
    }
   ],
   "source": [
    "b1['y'].value_counts()"
   ]
  },
  {
   "cell_type": "code",
   "execution_count": 60,
   "metadata": {},
   "outputs": [
    {
     "data": {
      "text/plain": [
       "no     9463\n",
       "yes    2139\n",
       "Name: y, dtype: int64"
      ]
     },
     "execution_count": 60,
     "metadata": {},
     "output_type": "execute_result"
    }
   ],
   "source": [
    "onetime=b1[b1['campaign']==1]\n",
    "onetime['y'].value_counts()\n",
    "# from the subscribed (y=yes) we have about 50% accept from the first time"
   ]
  },
  {
   "cell_type": "code",
   "execution_count": 61,
   "metadata": {},
   "outputs": [
    {
     "data": {
      "text/plain": [
       "Series([], Name: y, dtype: int64)"
      ]
     },
     "execution_count": 61,
     "metadata": {},
     "output_type": "execute_result"
    }
   ],
   "source": [
    "more_16=b1[b1['campaign']>16]\n",
    "more_16['y'].value_counts()"
   ]
  },
  {
   "cell_type": "markdown",
   "metadata": {},
   "source": [
    "### we are going to preprocess the categorical data by 2 ways:\n",
    "1. by creating dummies for the categorical nominal variables\n",
    "2. by label encoding "
   ]
  },
  {
   "cell_type": "markdown",
   "metadata": {},
   "source": [
    "### dealing with \"contact\"\n",
    "    . by creating dummies using pandas method \"get_dummies\". Here we are going to drop 1 of ur variables because we are preprocessing the data for a Logistic Regression model and based on prior knowledge, I favor to prevent the multicollinearity between the independent features will lead for better accuracy in Regression models\n",
    "    . PS: If we wanted to use a RandomForest model we may not care a lot about the multicolinearity between the features.\n",
    "            So in this case we can just go in the same steps but without change drop_first to True"
   ]
  },
  {
   "cell_type": "code",
   "execution_count": 62,
   "metadata": {
    "scrolled": true
   },
   "outputs": [
    {
     "data": {
      "text/plain": [
       "cellular     27391\n",
       "telephone     2576\n",
       "Name: contact, dtype: int64"
      ]
     },
     "execution_count": 62,
     "metadata": {},
     "output_type": "execute_result"
    }
   ],
   "source": [
    "b1['contact'].value_counts()"
   ]
  },
  {
   "cell_type": "code",
   "execution_count": 63,
   "metadata": {},
   "outputs": [
    {
     "data": {
      "text/plain": [
       "contact    y  \n",
       "cellular   no     23444\n",
       "           yes     3947\n",
       "telephone  no      2255\n",
       "           yes      321\n",
       "Name: y, dtype: int64"
      ]
     },
     "execution_count": 63,
     "metadata": {},
     "output_type": "execute_result"
    }
   ],
   "source": [
    "b1.groupby(['contact'])['y'].value_counts()"
   ]
  },
  {
   "cell_type": "code",
   "execution_count": 64,
   "metadata": {},
   "outputs": [
    {
     "name": "stdout",
     "output_type": "stream",
     "text": [
      "0.14285714285714285 cellular\n",
      "0.12328244274809161 telephone\n"
     ]
    }
   ],
   "source": [
    "print(3953/27671, 'cellular')\n",
    "print(323/2620, 'telephone')\n",
    "# dummies"
   ]
  },
  {
   "cell_type": "code",
   "execution_count": 65,
   "metadata": {},
   "outputs": [
    {
     "data": {
      "text/html": [
       "<div>\n",
       "<style scoped>\n",
       "    .dataframe tbody tr th:only-of-type {\n",
       "        vertical-align: middle;\n",
       "    }\n",
       "\n",
       "    .dataframe tbody tr th {\n",
       "        vertical-align: top;\n",
       "    }\n",
       "\n",
       "    .dataframe thead th {\n",
       "        text-align: right;\n",
       "    }\n",
       "</style>\n",
       "<table border=\"1\" class=\"dataframe\">\n",
       "  <thead>\n",
       "    <tr style=\"text-align: right;\">\n",
       "      <th></th>\n",
       "      <th>telephone</th>\n",
       "    </tr>\n",
       "  </thead>\n",
       "  <tbody>\n",
       "    <tr>\n",
       "      <th>12657</th>\n",
       "      <td>0</td>\n",
       "    </tr>\n",
       "    <tr>\n",
       "      <th>12658</th>\n",
       "      <td>0</td>\n",
       "    </tr>\n",
       "    <tr>\n",
       "      <th>12659</th>\n",
       "      <td>0</td>\n",
       "    </tr>\n",
       "    <tr>\n",
       "      <th>12660</th>\n",
       "      <td>1</td>\n",
       "    </tr>\n",
       "    <tr>\n",
       "      <th>12661</th>\n",
       "      <td>0</td>\n",
       "    </tr>\n",
       "  </tbody>\n",
       "</table>\n",
       "</div>"
      ],
      "text/plain": [
       "       telephone\n",
       "12657          0\n",
       "12658          0\n",
       "12659          0\n",
       "12660          1\n",
       "12661          0"
      ]
     },
     "execution_count": 65,
     "metadata": {},
     "output_type": "execute_result"
    }
   ],
   "source": [
    "contact_=pd.get_dummies(b1['contact'], drop_first=True)\n",
    "contact_.head()"
   ]
  },
  {
   "cell_type": "code",
   "execution_count": 66,
   "metadata": {},
   "outputs": [
    {
     "data": {
      "text/html": [
       "<div>\n",
       "<style scoped>\n",
       "    .dataframe tbody tr th:only-of-type {\n",
       "        vertical-align: middle;\n",
       "    }\n",
       "\n",
       "    .dataframe tbody tr th {\n",
       "        vertical-align: top;\n",
       "    }\n",
       "\n",
       "    .dataframe thead th {\n",
       "        text-align: right;\n",
       "    }\n",
       "</style>\n",
       "<table border=\"1\" class=\"dataframe\">\n",
       "  <thead>\n",
       "    <tr style=\"text-align: right;\">\n",
       "      <th></th>\n",
       "      <th>telephone</th>\n",
       "    </tr>\n",
       "  </thead>\n",
       "  <tbody>\n",
       "    <tr>\n",
       "      <th>count</th>\n",
       "      <td>29967.000000</td>\n",
       "    </tr>\n",
       "    <tr>\n",
       "      <th>mean</th>\n",
       "      <td>0.085961</td>\n",
       "    </tr>\n",
       "    <tr>\n",
       "      <th>std</th>\n",
       "      <td>0.280311</td>\n",
       "    </tr>\n",
       "    <tr>\n",
       "      <th>min</th>\n",
       "      <td>0.000000</td>\n",
       "    </tr>\n",
       "    <tr>\n",
       "      <th>25%</th>\n",
       "      <td>0.000000</td>\n",
       "    </tr>\n",
       "    <tr>\n",
       "      <th>50%</th>\n",
       "      <td>0.000000</td>\n",
       "    </tr>\n",
       "    <tr>\n",
       "      <th>75%</th>\n",
       "      <td>0.000000</td>\n",
       "    </tr>\n",
       "    <tr>\n",
       "      <th>max</th>\n",
       "      <td>1.000000</td>\n",
       "    </tr>\n",
       "  </tbody>\n",
       "</table>\n",
       "</div>"
      ],
      "text/plain": [
       "          telephone\n",
       "count  29967.000000\n",
       "mean       0.085961\n",
       "std        0.280311\n",
       "min        0.000000\n",
       "25%        0.000000\n",
       "50%        0.000000\n",
       "75%        0.000000\n",
       "max        1.000000"
      ]
     },
     "execution_count": 66,
     "metadata": {},
     "output_type": "execute_result"
    }
   ],
   "source": [
    "contact_.describe()"
   ]
  },
  {
   "cell_type": "code",
   "execution_count": 67,
   "metadata": {},
   "outputs": [
    {
     "name": "stdout",
     "output_type": "stream",
     "text": [
      "<class 'pandas.core.frame.DataFrame'>\n",
      "Int64Index: 29967 entries, 12657 to 45210\n",
      "Data columns (total 17 columns):\n",
      " #   Column     Non-Null Count  Dtype \n",
      "---  ------     --------------  ----- \n",
      " 0   age        29967 non-null  int64 \n",
      " 1   job        29967 non-null  object\n",
      " 2   marital    29967 non-null  object\n",
      " 3   education  29967 non-null  object\n",
      " 4   default    29967 non-null  object\n",
      " 5   balance    29967 non-null  int64 \n",
      " 6   housing    29967 non-null  object\n",
      " 7   loan       29967 non-null  object\n",
      " 8   contact    29967 non-null  object\n",
      " 9   day        29967 non-null  int64 \n",
      " 10  month      29967 non-null  int64 \n",
      " 11  duration   29967 non-null  int64 \n",
      " 12  campaign   29967 non-null  int64 \n",
      " 13  pdays      29967 non-null  int64 \n",
      " 14  previous   29967 non-null  int64 \n",
      " 15  y          29967 non-null  object\n",
      " 16  telephone  29967 non-null  uint8 \n",
      "dtypes: int64(8), object(8), uint8(1)\n",
      "memory usage: 3.9+ MB\n"
     ]
    }
   ],
   "source": [
    "b1=pd.concat([b1,contact_], axis=1)\n",
    "b1.info()"
   ]
  },
  {
   "cell_type": "markdown",
   "metadata": {},
   "source": [
    "### dealing with binary features (default, housing, loan)\n",
    "    .by mapping them to 1s and 0s instead of 'yes' and 'no'. using pandas \".map\" method"
   ]
  },
  {
   "cell_type": "code",
   "execution_count": 68,
   "metadata": {},
   "outputs": [
    {
     "data": {
      "text/plain": [
       "array(['no', 'yes'], dtype=object)"
      ]
     },
     "execution_count": 68,
     "metadata": {},
     "output_type": "execute_result"
    }
   ],
   "source": [
    "b1['housing'].unique()"
   ]
  },
  {
   "cell_type": "code",
   "execution_count": 69,
   "metadata": {},
   "outputs": [
    {
     "data": {
      "text/plain": [
       "count    29967.000000\n",
       "mean         0.498582\n",
       "std          0.500006\n",
       "min          0.000000\n",
       "25%          0.000000\n",
       "50%          0.000000\n",
       "75%          1.000000\n",
       "max          1.000000\n",
       "Name: housing, dtype: float64"
      ]
     },
     "execution_count": 69,
     "metadata": {},
     "output_type": "execute_result"
    }
   ],
   "source": [
    "b1['housing']=b1['housing'].map({'yes':1, 'no':0})\n",
    "b1['housing'].describe()"
   ]
  },
  {
   "cell_type": "code",
   "execution_count": 70,
   "metadata": {},
   "outputs": [
    {
     "data": {
      "text/plain": [
       "no     29473\n",
       "yes      494\n",
       "Name: default, dtype: int64"
      ]
     },
     "execution_count": 70,
     "metadata": {},
     "output_type": "execute_result"
    }
   ],
   "source": [
    "b1['default'].value_counts()"
   ]
  },
  {
   "cell_type": "code",
   "execution_count": 71,
   "metadata": {},
   "outputs": [],
   "source": [
    "b1['default']=b1['default'].map({'yes':1, 'no':0})"
   ]
  },
  {
   "cell_type": "code",
   "execution_count": 72,
   "metadata": {},
   "outputs": [
    {
     "data": {
      "text/plain": [
       "default  y  \n",
       "0        no     25239\n",
       "         yes     4234\n",
       "1        no       460\n",
       "         yes       34\n",
       "Name: y, dtype: int64"
      ]
     },
     "execution_count": 72,
     "metadata": {},
     "output_type": "execute_result"
    }
   ],
   "source": [
    "b1.groupby(['default'])['y'].value_counts()"
   ]
  },
  {
   "cell_type": "code",
   "execution_count": 73,
   "metadata": {},
   "outputs": [
    {
     "data": {
      "text/plain": [
       "no     24985\n",
       "yes     4982\n",
       "Name: loan, dtype: int64"
      ]
     },
     "execution_count": 73,
     "metadata": {},
     "output_type": "execute_result"
    }
   ],
   "source": [
    "b1['loan'].value_counts()"
   ]
  },
  {
   "cell_type": "code",
   "execution_count": 74,
   "metadata": {},
   "outputs": [],
   "source": [
    "b1['loan']=b1['loan'].map({'yes':1, 'no':0})"
   ]
  },
  {
   "cell_type": "code",
   "execution_count": null,
   "metadata": {},
   "outputs": [],
   "source": []
  },
  {
   "cell_type": "markdown",
   "metadata": {},
   "source": [
    "#### dealing with \"marital\" feature:\n",
    "    .by using dummies method"
   ]
  },
  {
   "cell_type": "code",
   "execution_count": 75,
   "metadata": {
    "scrolled": false
   },
   "outputs": [
    {
     "data": {
      "image/png": "[encoded data removed]",
      "text/plain": [
       "<Figure size 1080x432 with 1 Axes>"
      ]
     },
     "metadata": {},
     "output_type": "display_data"
    }
   ],
   "source": [
    "plt.figure(figsize=(15,6))\n",
    "ax=sns.countplot(x='marital',  data=b1, hue='y')\n",
    "for p in ax.patches:\n",
    "        ax.annotate('{:.1f}'.format(p.get_height()), (p.get_x()+0.1, p.get_height()+50))"
   ]
  },
  {
   "cell_type": "code",
   "execution_count": 76,
   "metadata": {},
   "outputs": [
    {
     "data": {
      "text/html": [
       "<div>\n",
       "<style scoped>\n",
       "    .dataframe tbody tr th:only-of-type {\n",
       "        vertical-align: middle;\n",
       "    }\n",
       "\n",
       "    .dataframe tbody tr th {\n",
       "        vertical-align: top;\n",
       "    }\n",
       "\n",
       "    .dataframe thead th {\n",
       "        text-align: right;\n",
       "    }\n",
       "</style>\n",
       "<table border=\"1\" class=\"dataframe\">\n",
       "  <thead>\n",
       "    <tr style=\"text-align: right;\">\n",
       "      <th></th>\n",
       "      <th>married</th>\n",
       "      <th>single</th>\n",
       "    </tr>\n",
       "  </thead>\n",
       "  <tbody>\n",
       "    <tr>\n",
       "      <th>12657</th>\n",
       "      <td>0</td>\n",
       "      <td>1</td>\n",
       "    </tr>\n",
       "    <tr>\n",
       "      <th>12658</th>\n",
       "      <td>1</td>\n",
       "      <td>0</td>\n",
       "    </tr>\n",
       "    <tr>\n",
       "      <th>12659</th>\n",
       "      <td>1</td>\n",
       "      <td>0</td>\n",
       "    </tr>\n",
       "    <tr>\n",
       "      <th>12660</th>\n",
       "      <td>0</td>\n",
       "      <td>1</td>\n",
       "    </tr>\n",
       "    <tr>\n",
       "      <th>12661</th>\n",
       "      <td>0</td>\n",
       "      <td>1</td>\n",
       "    </tr>\n",
       "  </tbody>\n",
       "</table>\n",
       "</div>"
      ],
      "text/plain": [
       "       married  single\n",
       "12657        0       1\n",
       "12658        1       0\n",
       "12659        1       0\n",
       "12660        0       1\n",
       "12661        0       1"
      ]
     },
     "execution_count": 76,
     "metadata": {},
     "output_type": "execute_result"
    }
   ],
   "source": [
    "marital_=pd.get_dummies(b1['marital'],drop_first=True)\n",
    "marital_.head()"
   ]
  },
  {
   "cell_type": "code",
   "execution_count": 77,
   "metadata": {},
   "outputs": [
    {
     "name": "stdout",
     "output_type": "stream",
     "text": [
      "<class 'pandas.core.frame.DataFrame'>\n",
      "Int64Index: 29967 entries, 12657 to 45210\n",
      "Data columns (total 19 columns):\n",
      " #   Column     Non-Null Count  Dtype \n",
      "---  ------     --------------  ----- \n",
      " 0   age        29967 non-null  int64 \n",
      " 1   job        29967 non-null  object\n",
      " 2   marital    29967 non-null  object\n",
      " 3   education  29967 non-null  object\n",
      " 4   default    29967 non-null  int64 \n",
      " 5   balance    29967 non-null  int64 \n",
      " 6   housing    29967 non-null  int64 \n",
      " 7   loan       29967 non-null  int64 \n",
      " 8   contact    29967 non-null  object\n",
      " 9   day        29967 non-null  int64 \n",
      " 10  month      29967 non-null  int64 \n",
      " 11  duration   29967 non-null  int64 \n",
      " 12  campaign   29967 non-null  int64 \n",
      " 13  pdays      29967 non-null  int64 \n",
      " 14  previous   29967 non-null  int64 \n",
      " 15  y          29967 non-null  object\n",
      " 16  telephone  29967 non-null  uint8 \n",
      " 17  married    29967 non-null  uint8 \n",
      " 18  single     29967 non-null  uint8 \n",
      "dtypes: int64(11), object(5), uint8(3)\n",
      "memory usage: 5.2+ MB\n"
     ]
    }
   ],
   "source": [
    "b1=pd.concat([b1,marital_], axis=1)\n",
    "b1.info()\n",
    "# we must drop the 'marital feature after we created dummies from it'"
   ]
  },
  {
   "cell_type": "markdown",
   "metadata": {},
   "source": [
    "### Dealing with \"education\" feature:\n",
    "    .We transformed this feauture to a binary feature and associating 1s: people with high degree \n",
    "                                                                      0s: people with school degree"
   ]
  },
  {
   "cell_type": "code",
   "execution_count": 78,
   "metadata": {
    "scrolled": true
   },
   "outputs": [
    {
     "data": {
      "text/plain": [
       "secondary    15589\n",
       "tertiary     10220\n",
       "primary       4158\n",
       "Name: education, dtype: int64"
      ]
     },
     "execution_count": 78,
     "metadata": {},
     "output_type": "execute_result"
    }
   ],
   "source": [
    "b1['education'].value_counts()"
   ]
  },
  {
   "cell_type": "code",
   "execution_count": 79,
   "metadata": {
    "scrolled": true
   },
   "outputs": [],
   "source": [
    "b1['education']=b1['education'].map({'secondary':0, 'primary':0, 'tertiary':1})"
   ]
  },
  {
   "cell_type": "code",
   "execution_count": 80,
   "metadata": {},
   "outputs": [
    {
     "data": {
      "text/plain": [
       "0    19747\n",
       "1    10220\n",
       "Name: education, dtype: int64"
      ]
     },
     "execution_count": 80,
     "metadata": {},
     "output_type": "execute_result"
    }
   ],
   "source": [
    "b1['education'].value_counts()"
   ]
  },
  {
   "cell_type": "markdown",
   "metadata": {},
   "source": [
    "## Dealing with job feature:\n",
    "    .Using dummies method"
   ]
  },
  {
   "cell_type": "code",
   "execution_count": 81,
   "metadata": {},
   "outputs": [
    {
     "data": {
      "text/plain": [
       "management       7039\n",
       "blue-collar      5404\n",
       "technician       5385\n",
       "admin.           3462\n",
       "services         2565\n",
       "retired          1614\n",
       "self-employed    1112\n",
       "entrepreneur      965\n",
       "unemployed        926\n",
       "housemaid         849\n",
       "student           646\n",
       "Name: job, dtype: int64"
      ]
     },
     "execution_count": 81,
     "metadata": {},
     "output_type": "execute_result"
    }
   ],
   "source": [
    "b1['job'].value_counts()"
   ]
  },
  {
   "cell_type": "code",
   "execution_count": 82,
   "metadata": {},
   "outputs": [
    {
     "data": {
      "image/png": "[encoded data removed]",
      "text/plain": [
       "<Figure size 1080x432 with 1 Axes>"
      ]
     },
     "metadata": {},
     "output_type": "display_data"
    }
   ],
   "source": [
    "plt.figure(figsize=(15,6))\n",
    "ax=sns.countplot(x='job',  data=b1, hue='y')\n",
    "for p in ax.patches:\n",
    "        ax.annotate('{:.1f}'.format(p.get_height()), (p.get_x()+0.1, p.get_height()+50))"
   ]
  },
  {
   "cell_type": "code",
   "execution_count": 83,
   "metadata": {},
   "outputs": [],
   "source": [
    "job_=pd.get_dummies(b1['job'],drop_first=True)\n",
    "# we dropped the admin job type in order to prevent mlticollinearity "
   ]
  },
  {
   "cell_type": "code",
   "execution_count": 84,
   "metadata": {
    "scrolled": true
   },
   "outputs": [
    {
     "data": {
      "text/html": [
       "<div>\n",
       "<style scoped>\n",
       "    .dataframe tbody tr th:only-of-type {\n",
       "        vertical-align: middle;\n",
       "    }\n",
       "\n",
       "    .dataframe tbody tr th {\n",
       "        vertical-align: top;\n",
       "    }\n",
       "\n",
       "    .dataframe thead th {\n",
       "        text-align: right;\n",
       "    }\n",
       "</style>\n",
       "<table border=\"1\" class=\"dataframe\">\n",
       "  <thead>\n",
       "    <tr style=\"text-align: right;\">\n",
       "      <th></th>\n",
       "      <th>blue-collar</th>\n",
       "      <th>entrepreneur</th>\n",
       "      <th>housemaid</th>\n",
       "      <th>management</th>\n",
       "      <th>retired</th>\n",
       "      <th>self-employed</th>\n",
       "      <th>services</th>\n",
       "      <th>student</th>\n",
       "      <th>technician</th>\n",
       "      <th>unemployed</th>\n",
       "    </tr>\n",
       "  </thead>\n",
       "  <tbody>\n",
       "    <tr>\n",
       "      <th>12657</th>\n",
       "      <td>0</td>\n",
       "      <td>0</td>\n",
       "      <td>0</td>\n",
       "      <td>1</td>\n",
       "      <td>0</td>\n",
       "      <td>0</td>\n",
       "      <td>0</td>\n",
       "      <td>0</td>\n",
       "      <td>0</td>\n",
       "      <td>0</td>\n",
       "    </tr>\n",
       "    <tr>\n",
       "      <th>12658</th>\n",
       "      <td>1</td>\n",
       "      <td>0</td>\n",
       "      <td>0</td>\n",
       "      <td>0</td>\n",
       "      <td>0</td>\n",
       "      <td>0</td>\n",
       "      <td>0</td>\n",
       "      <td>0</td>\n",
       "      <td>0</td>\n",
       "      <td>0</td>\n",
       "    </tr>\n",
       "    <tr>\n",
       "      <th>12659</th>\n",
       "      <td>1</td>\n",
       "      <td>0</td>\n",
       "      <td>0</td>\n",
       "      <td>0</td>\n",
       "      <td>0</td>\n",
       "      <td>0</td>\n",
       "      <td>0</td>\n",
       "      <td>0</td>\n",
       "      <td>0</td>\n",
       "      <td>0</td>\n",
       "    </tr>\n",
       "    <tr>\n",
       "      <th>12660</th>\n",
       "      <td>0</td>\n",
       "      <td>0</td>\n",
       "      <td>0</td>\n",
       "      <td>0</td>\n",
       "      <td>0</td>\n",
       "      <td>0</td>\n",
       "      <td>0</td>\n",
       "      <td>0</td>\n",
       "      <td>1</td>\n",
       "      <td>0</td>\n",
       "    </tr>\n",
       "    <tr>\n",
       "      <th>12661</th>\n",
       "      <td>0</td>\n",
       "      <td>0</td>\n",
       "      <td>0</td>\n",
       "      <td>0</td>\n",
       "      <td>0</td>\n",
       "      <td>0</td>\n",
       "      <td>0</td>\n",
       "      <td>0</td>\n",
       "      <td>1</td>\n",
       "      <td>0</td>\n",
       "    </tr>\n",
       "  </tbody>\n",
       "</table>\n",
       "</div>"
      ],
      "text/plain": [
       "       blue-collar  entrepreneur  housemaid  management  retired  \\\n",
       "12657            0             0          0           1        0   \n",
       "12658            1             0          0           0        0   \n",
       "12659            1             0          0           0        0   \n",
       "12660            0             0          0           0        0   \n",
       "12661            0             0          0           0        0   \n",
       "\n",
       "       self-employed  services  student  technician  unemployed  \n",
       "12657              0         0        0           0           0  \n",
       "12658              0         0        0           0           0  \n",
       "12659              0         0        0           0           0  \n",
       "12660              0         0        0           1           0  \n",
       "12661              0         0        0           1           0  "
      ]
     },
     "execution_count": 84,
     "metadata": {},
     "output_type": "execute_result"
    }
   ],
   "source": [
    "job_.head()"
   ]
  },
  {
   "cell_type": "code",
   "execution_count": 85,
   "metadata": {},
   "outputs": [],
   "source": [
    "b1=pd.concat([b1,job_], axis=1)"
   ]
  },
  {
   "cell_type": "markdown",
   "metadata": {},
   "source": [
    "## Labeling the target variable \"y\""
   ]
  },
  {
   "cell_type": "code",
   "execution_count": 86,
   "metadata": {},
   "outputs": [],
   "source": [
    "b1['y']=b1['y'].map({'yes':1, 'no':0})"
   ]
  },
  {
   "cell_type": "code",
   "execution_count": 87,
   "metadata": {
    "scrolled": true
   },
   "outputs": [
    {
     "data": {
      "text/html": [
       "<div>\n",
       "<style scoped>\n",
       "    .dataframe tbody tr th:only-of-type {\n",
       "        vertical-align: middle;\n",
       "    }\n",
       "\n",
       "    .dataframe tbody tr th {\n",
       "        vertical-align: top;\n",
       "    }\n",
       "\n",
       "    .dataframe thead th {\n",
       "        text-align: right;\n",
       "    }\n",
       "</style>\n",
       "<table border=\"1\" class=\"dataframe\">\n",
       "  <thead>\n",
       "    <tr style=\"text-align: right;\">\n",
       "      <th></th>\n",
       "      <th>age</th>\n",
       "      <th>job</th>\n",
       "      <th>marital</th>\n",
       "      <th>education</th>\n",
       "      <th>default</th>\n",
       "      <th>balance</th>\n",
       "      <th>housing</th>\n",
       "      <th>loan</th>\n",
       "      <th>contact</th>\n",
       "      <th>day</th>\n",
       "      <th>...</th>\n",
       "      <th>blue-collar</th>\n",
       "      <th>entrepreneur</th>\n",
       "      <th>housemaid</th>\n",
       "      <th>management</th>\n",
       "      <th>retired</th>\n",
       "      <th>self-employed</th>\n",
       "      <th>services</th>\n",
       "      <th>student</th>\n",
       "      <th>technician</th>\n",
       "      <th>unemployed</th>\n",
       "    </tr>\n",
       "  </thead>\n",
       "  <tbody>\n",
       "    <tr>\n",
       "      <th>count</th>\n",
       "      <td>29967.00000</td>\n",
       "      <td>29967</td>\n",
       "      <td>29967</td>\n",
       "      <td>29967.000000</td>\n",
       "      <td>29967.000000</td>\n",
       "      <td>29967.000000</td>\n",
       "      <td>29967.000000</td>\n",
       "      <td>29967.000000</td>\n",
       "      <td>29967</td>\n",
       "      <td>29967.000000</td>\n",
       "      <td>...</td>\n",
       "      <td>29967.000000</td>\n",
       "      <td>29967.000000</td>\n",
       "      <td>29967.000000</td>\n",
       "      <td>29967.000000</td>\n",
       "      <td>29967.000000</td>\n",
       "      <td>29967.000000</td>\n",
       "      <td>29967.000000</td>\n",
       "      <td>29967.000000</td>\n",
       "      <td>29967.000000</td>\n",
       "      <td>29967.000000</td>\n",
       "    </tr>\n",
       "    <tr>\n",
       "      <th>unique</th>\n",
       "      <td>NaN</td>\n",
       "      <td>11</td>\n",
       "      <td>3</td>\n",
       "      <td>NaN</td>\n",
       "      <td>NaN</td>\n",
       "      <td>NaN</td>\n",
       "      <td>NaN</td>\n",
       "      <td>NaN</td>\n",
       "      <td>2</td>\n",
       "      <td>NaN</td>\n",
       "      <td>...</td>\n",
       "      <td>NaN</td>\n",
       "      <td>NaN</td>\n",
       "      <td>NaN</td>\n",
       "      <td>NaN</td>\n",
       "      <td>NaN</td>\n",
       "      <td>NaN</td>\n",
       "      <td>NaN</td>\n",
       "      <td>NaN</td>\n",
       "      <td>NaN</td>\n",
       "      <td>NaN</td>\n",
       "    </tr>\n",
       "    <tr>\n",
       "      <th>top</th>\n",
       "      <td>NaN</td>\n",
       "      <td>management</td>\n",
       "      <td>married</td>\n",
       "      <td>NaN</td>\n",
       "      <td>NaN</td>\n",
       "      <td>NaN</td>\n",
       "      <td>NaN</td>\n",
       "      <td>NaN</td>\n",
       "      <td>cellular</td>\n",
       "      <td>NaN</td>\n",
       "      <td>...</td>\n",
       "      <td>NaN</td>\n",
       "      <td>NaN</td>\n",
       "      <td>NaN</td>\n",
       "      <td>NaN</td>\n",
       "      <td>NaN</td>\n",
       "      <td>NaN</td>\n",
       "      <td>NaN</td>\n",
       "      <td>NaN</td>\n",
       "      <td>NaN</td>\n",
       "      <td>NaN</td>\n",
       "    </tr>\n",
       "    <tr>\n",
       "      <th>freq</th>\n",
       "      <td>NaN</td>\n",
       "      <td>7039</td>\n",
       "      <td>17800</td>\n",
       "      <td>NaN</td>\n",
       "      <td>NaN</td>\n",
       "      <td>NaN</td>\n",
       "      <td>NaN</td>\n",
       "      <td>NaN</td>\n",
       "      <td>27391</td>\n",
       "      <td>NaN</td>\n",
       "      <td>...</td>\n",
       "      <td>NaN</td>\n",
       "      <td>NaN</td>\n",
       "      <td>NaN</td>\n",
       "      <td>NaN</td>\n",
       "      <td>NaN</td>\n",
       "      <td>NaN</td>\n",
       "      <td>NaN</td>\n",
       "      <td>NaN</td>\n",
       "      <td>NaN</td>\n",
       "      <td>NaN</td>\n",
       "    </tr>\n",
       "    <tr>\n",
       "      <th>mean</th>\n",
       "      <td>40.87870</td>\n",
       "      <td>NaN</td>\n",
       "      <td>NaN</td>\n",
       "      <td>0.341042</td>\n",
       "      <td>0.016485</td>\n",
       "      <td>1208.985484</td>\n",
       "      <td>0.498582</td>\n",
       "      <td>0.166250</td>\n",
       "      <td>NaN</td>\n",
       "      <td>15.848233</td>\n",
       "      <td>...</td>\n",
       "      <td>0.180332</td>\n",
       "      <td>0.032202</td>\n",
       "      <td>0.028331</td>\n",
       "      <td>0.234892</td>\n",
       "      <td>0.053859</td>\n",
       "      <td>0.037107</td>\n",
       "      <td>0.085594</td>\n",
       "      <td>0.021557</td>\n",
       "      <td>0.179698</td>\n",
       "      <td>0.030901</td>\n",
       "    </tr>\n",
       "    <tr>\n",
       "      <th>std</th>\n",
       "      <td>10.90206</td>\n",
       "      <td>NaN</td>\n",
       "      <td>NaN</td>\n",
       "      <td>0.474067</td>\n",
       "      <td>0.127333</td>\n",
       "      <td>1988.111573</td>\n",
       "      <td>0.500006</td>\n",
       "      <td>0.372311</td>\n",
       "      <td>NaN</td>\n",
       "      <td>8.187582</td>\n",
       "      <td>...</td>\n",
       "      <td>0.384470</td>\n",
       "      <td>0.176539</td>\n",
       "      <td>0.165920</td>\n",
       "      <td>0.423938</td>\n",
       "      <td>0.225743</td>\n",
       "      <td>0.189028</td>\n",
       "      <td>0.279768</td>\n",
       "      <td>0.145234</td>\n",
       "      <td>0.383942</td>\n",
       "      <td>0.173051</td>\n",
       "    </tr>\n",
       "    <tr>\n",
       "      <th>min</th>\n",
       "      <td>18.00000</td>\n",
       "      <td>NaN</td>\n",
       "      <td>NaN</td>\n",
       "      <td>0.000000</td>\n",
       "      <td>0.000000</td>\n",
       "      <td>-8019.000000</td>\n",
       "      <td>0.000000</td>\n",
       "      <td>0.000000</td>\n",
       "      <td>NaN</td>\n",
       "      <td>1.000000</td>\n",
       "      <td>...</td>\n",
       "      <td>0.000000</td>\n",
       "      <td>0.000000</td>\n",
       "      <td>0.000000</td>\n",
       "      <td>0.000000</td>\n",
       "      <td>0.000000</td>\n",
       "      <td>0.000000</td>\n",
       "      <td>0.000000</td>\n",
       "      <td>0.000000</td>\n",
       "      <td>0.000000</td>\n",
       "      <td>0.000000</td>\n",
       "    </tr>\n",
       "    <tr>\n",
       "      <th>25%</th>\n",
       "      <td>32.00000</td>\n",
       "      <td>NaN</td>\n",
       "      <td>NaN</td>\n",
       "      <td>0.000000</td>\n",
       "      <td>0.000000</td>\n",
       "      <td>79.000000</td>\n",
       "      <td>0.000000</td>\n",
       "      <td>0.000000</td>\n",
       "      <td>NaN</td>\n",
       "      <td>9.000000</td>\n",
       "      <td>...</td>\n",
       "      <td>0.000000</td>\n",
       "      <td>0.000000</td>\n",
       "      <td>0.000000</td>\n",
       "      <td>0.000000</td>\n",
       "      <td>0.000000</td>\n",
       "      <td>0.000000</td>\n",
       "      <td>0.000000</td>\n",
       "      <td>0.000000</td>\n",
       "      <td>0.000000</td>\n",
       "      <td>0.000000</td>\n",
       "    </tr>\n",
       "    <tr>\n",
       "      <th>50%</th>\n",
       "      <td>39.00000</td>\n",
       "      <td>NaN</td>\n",
       "      <td>NaN</td>\n",
       "      <td>0.000000</td>\n",
       "      <td>0.000000</td>\n",
       "      <td>464.000000</td>\n",
       "      <td>0.000000</td>\n",
       "      <td>0.000000</td>\n",
       "      <td>NaN</td>\n",
       "      <td>16.000000</td>\n",
       "      <td>...</td>\n",
       "      <td>0.000000</td>\n",
       "      <td>0.000000</td>\n",
       "      <td>0.000000</td>\n",
       "      <td>0.000000</td>\n",
       "      <td>0.000000</td>\n",
       "      <td>0.000000</td>\n",
       "      <td>0.000000</td>\n",
       "      <td>0.000000</td>\n",
       "      <td>0.000000</td>\n",
       "      <td>0.000000</td>\n",
       "    </tr>\n",
       "    <tr>\n",
       "      <th>75%</th>\n",
       "      <td>48.00000</td>\n",
       "      <td>NaN</td>\n",
       "      <td>NaN</td>\n",
       "      <td>1.000000</td>\n",
       "      <td>0.000000</td>\n",
       "      <td>1445.000000</td>\n",
       "      <td>1.000000</td>\n",
       "      <td>0.000000</td>\n",
       "      <td>NaN</td>\n",
       "      <td>21.000000</td>\n",
       "      <td>...</td>\n",
       "      <td>0.000000</td>\n",
       "      <td>0.000000</td>\n",
       "      <td>0.000000</td>\n",
       "      <td>0.000000</td>\n",
       "      <td>0.000000</td>\n",
       "      <td>0.000000</td>\n",
       "      <td>0.000000</td>\n",
       "      <td>0.000000</td>\n",
       "      <td>0.000000</td>\n",
       "      <td>0.000000</td>\n",
       "    </tr>\n",
       "    <tr>\n",
       "      <th>max</th>\n",
       "      <td>95.00000</td>\n",
       "      <td>NaN</td>\n",
       "      <td>NaN</td>\n",
       "      <td>1.000000</td>\n",
       "      <td>1.000000</td>\n",
       "      <td>13683.000000</td>\n",
       "      <td>1.000000</td>\n",
       "      <td>1.000000</td>\n",
       "      <td>NaN</td>\n",
       "      <td>31.000000</td>\n",
       "      <td>...</td>\n",
       "      <td>1.000000</td>\n",
       "      <td>1.000000</td>\n",
       "      <td>1.000000</td>\n",
       "      <td>1.000000</td>\n",
       "      <td>1.000000</td>\n",
       "      <td>1.000000</td>\n",
       "      <td>1.000000</td>\n",
       "      <td>1.000000</td>\n",
       "      <td>1.000000</td>\n",
       "      <td>1.000000</td>\n",
       "    </tr>\n",
       "  </tbody>\n",
       "</table>\n",
       "<p>11 rows × 29 columns</p>\n",
       "</div>"
      ],
      "text/plain": [
       "                age         job  marital     education       default  \\\n",
       "count   29967.00000       29967    29967  29967.000000  29967.000000   \n",
       "unique          NaN          11        3           NaN           NaN   \n",
       "top             NaN  management  married           NaN           NaN   \n",
       "freq            NaN        7039    17800           NaN           NaN   \n",
       "mean       40.87870         NaN      NaN      0.341042      0.016485   \n",
       "std        10.90206         NaN      NaN      0.474067      0.127333   \n",
       "min        18.00000         NaN      NaN      0.000000      0.000000   \n",
       "25%        32.00000         NaN      NaN      0.000000      0.000000   \n",
       "50%        39.00000         NaN      NaN      0.000000      0.000000   \n",
       "75%        48.00000         NaN      NaN      1.000000      0.000000   \n",
       "max        95.00000         NaN      NaN      1.000000      1.000000   \n",
       "\n",
       "             balance       housing          loan   contact           day  ...  \\\n",
       "count   29967.000000  29967.000000  29967.000000     29967  29967.000000  ...   \n",
       "unique           NaN           NaN           NaN         2           NaN  ...   \n",
       "top              NaN           NaN           NaN  cellular           NaN  ...   \n",
       "freq             NaN           NaN           NaN     27391           NaN  ...   \n",
       "mean     1208.985484      0.498582      0.166250       NaN     15.848233  ...   \n",
       "std      1988.111573      0.500006      0.372311       NaN      8.187582  ...   \n",
       "min     -8019.000000      0.000000      0.000000       NaN      1.000000  ...   \n",
       "25%        79.000000      0.000000      0.000000       NaN      9.000000  ...   \n",
       "50%       464.000000      0.000000      0.000000       NaN     16.000000  ...   \n",
       "75%      1445.000000      1.000000      0.000000       NaN     21.000000  ...   \n",
       "max     13683.000000      1.000000      1.000000       NaN     31.000000  ...   \n",
       "\n",
       "         blue-collar  entrepreneur     housemaid    management       retired  \\\n",
       "count   29967.000000  29967.000000  29967.000000  29967.000000  29967.000000   \n",
       "unique           NaN           NaN           NaN           NaN           NaN   \n",
       "top              NaN           NaN           NaN           NaN           NaN   \n",
       "freq             NaN           NaN           NaN           NaN           NaN   \n",
       "mean        0.180332      0.032202      0.028331      0.234892      0.053859   \n",
       "std         0.384470      0.176539      0.165920      0.423938      0.225743   \n",
       "min         0.000000      0.000000      0.000000      0.000000      0.000000   \n",
       "25%         0.000000      0.000000      0.000000      0.000000      0.000000   \n",
       "50%         0.000000      0.000000      0.000000      0.000000      0.000000   \n",
       "75%         0.000000      0.000000      0.000000      0.000000      0.000000   \n",
       "max         1.000000      1.000000      1.000000      1.000000      1.000000   \n",
       "\n",
       "        self-employed      services       student    technician    unemployed  \n",
       "count    29967.000000  29967.000000  29967.000000  29967.000000  29967.000000  \n",
       "unique            NaN           NaN           NaN           NaN           NaN  \n",
       "top               NaN           NaN           NaN           NaN           NaN  \n",
       "freq              NaN           NaN           NaN           NaN           NaN  \n",
       "mean         0.037107      0.085594      0.021557      0.179698      0.030901  \n",
       "std          0.189028      0.279768      0.145234      0.383942      0.173051  \n",
       "min          0.000000      0.000000      0.000000      0.000000      0.000000  \n",
       "25%          0.000000      0.000000      0.000000      0.000000      0.000000  \n",
       "50%          0.000000      0.000000      0.000000      0.000000      0.000000  \n",
       "75%          0.000000      0.000000      0.000000      0.000000      0.000000  \n",
       "max          1.000000      1.000000      1.000000      1.000000      1.000000  \n",
       "\n",
       "[11 rows x 29 columns]"
      ]
     },
     "execution_count": 87,
     "metadata": {},
     "output_type": "execute_result"
    }
   ],
   "source": [
    "b1.describe(include='all')"
   ]
  },
  {
   "cell_type": "code",
   "execution_count": 88,
   "metadata": {},
   "outputs": [
    {
     "data": {
      "text/plain": [
       "['job', 'marital', 'contact']"
      ]
     },
     "execution_count": 88,
     "metadata": {},
     "output_type": "execute_result"
    }
   ],
   "source": [
    "object_cols=[col for col in b1.columns if b1[col].dtype=='object']\n",
    "object_cols"
   ]
  },
  {
   "cell_type": "code",
   "execution_count": 89,
   "metadata": {
    "scrolled": true
   },
   "outputs": [
    {
     "name": "stdout",
     "output_type": "stream",
     "text": [
      "<class 'pandas.core.frame.DataFrame'>\n",
      "Int64Index: 29967 entries, 12657 to 45210\n",
      "Data columns (total 26 columns):\n",
      " #   Column         Non-Null Count  Dtype\n",
      "---  ------         --------------  -----\n",
      " 0   age            29967 non-null  int64\n",
      " 1   education      29967 non-null  int64\n",
      " 2   default        29967 non-null  int64\n",
      " 3   balance        29967 non-null  int64\n",
      " 4   housing        29967 non-null  int64\n",
      " 5   loan           29967 non-null  int64\n",
      " 6   day            29967 non-null  int64\n",
      " 7   month          29967 non-null  int64\n",
      " 8   duration       29967 non-null  int64\n",
      " 9   campaign       29967 non-null  int64\n",
      " 10  pdays          29967 non-null  int64\n",
      " 11  previous       29967 non-null  int64\n",
      " 12  y              29967 non-null  int64\n",
      " 13  telephone      29967 non-null  uint8\n",
      " 14  married        29967 non-null  uint8\n",
      " 15  single         29967 non-null  uint8\n",
      " 16  blue-collar    29967 non-null  uint8\n",
      " 17  entrepreneur   29967 non-null  uint8\n",
      " 18  housemaid      29967 non-null  uint8\n",
      " 19  management     29967 non-null  uint8\n",
      " 20  retired        29967 non-null  uint8\n",
      " 21  self-employed  29967 non-null  uint8\n",
      " 22  services       29967 non-null  uint8\n",
      " 23  student        29967 non-null  uint8\n",
      " 24  technician     29967 non-null  uint8\n",
      " 25  unemployed     29967 non-null  uint8\n",
      "dtypes: int64(13), uint8(13)\n",
      "memory usage: 4.8 MB\n"
     ]
    }
   ],
   "source": [
    "b1_p=b1.drop(b1[object_cols], axis=1)\n",
    "b1_p.info()"
   ]
  },
  {
   "cell_type": "code",
   "execution_count": 90,
   "metadata": {},
   "outputs": [],
   "source": [
    "b1_p.to_csv('C:/Users/Fawzi/Desktop/DG-Project/BD1_p.csv', index=False)"
   ]
  },
  {
   "cell_type": "markdown",
   "metadata": {},
   "source": [
    "# PS: we made further preprocessing steps for our models are added in the modeling notebook added in week 12. Those were not added to this current notebook."
   ]
  },
  {
   "cell_type": "code",
   "execution_count": null,
   "metadata": {},
   "outputs": [],
   "source": []
  }
 ],
 "metadata": {
  "kernelspec": {
   "display_name": "Python 3",
   "language": "python",
   "name": "python3"
  },
  "language_info": {
   "codemirror_mode": {
    "name": "ipython",
    "version": 3
   },
   "file_extension": ".py",
   "mimetype": "text/x-python",
   "name": "python",
   "nbconvert_exporter": "python",
   "pygments_lexer": "ipython3",
   "version": "3.7.6"
  }
 },
 "nbformat": 4,
 "nbformat_minor": 4
}
